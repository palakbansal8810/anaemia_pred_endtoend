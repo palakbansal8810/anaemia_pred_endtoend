{
 "cells": [
  {
   "cell_type": "code",
   "execution_count": 1,
   "id": "b01b9f14",
   "metadata": {
    "_cell_guid": "b1076dfc-b9ad-4769-8c92-a6c4dae69d19",
    "_uuid": "8f2839f25d086af736a60e9eeb907d3b93b6e0e5",
    "execution": {
     "iopub.execute_input": "2024-07-07T14:01:57.080025Z",
     "iopub.status.busy": "2024-07-07T14:01:57.079674Z",
     "iopub.status.idle": "2024-07-07T14:01:57.915273Z",
     "shell.execute_reply": "2024-07-07T14:01:57.914363Z"
    },
    "papermill": {
     "duration": 0.853356,
     "end_time": "2024-07-07T14:01:57.917579",
     "exception": false,
     "start_time": "2024-07-07T14:01:57.064223",
     "status": "completed"
    },
    "tags": []
   },
   "outputs": [
    {
     "name": "stdout",
     "output_type": "stream",
     "text": [
      "/kaggle/input/anaemia-prediction/output.csv\n"
     ]
    }
   ],
   "source": [
    "# This Python 3 environment comes with many helpful analytics libraries installed\n",
    "# It is defined by the kaggle/python Docker image: https://github.com/kaggle/docker-python\n",
    "# For example, here's several helpful packages to load\n",
    "\n",
    "import numpy as np # linear algebra\n",
    "import pandas as pd # data processing, CSV file I/O (e.g. pd.read_csv)\n",
    "\n",
    "# Input data files are available in the read-only \"../input/\" directory\n",
    "# For example, running this (by clicking run or pressing Shift+Enter) will list all files under the input directory\n",
    "\n",
    "import os\n",
    "for dirname, _, filenames in os.walk('/kaggle/input'):\n",
    "    for filename in filenames:\n",
    "        print(os.path.join(dirname, filename))\n",
    "\n",
    "# You can write up to 20GB to the current directory (/kaggle/working/) that gets preserved as output when you create a version using \"Save & Run All\" \n",
    "# You can also write temporary files to /kaggle/temp/, but they won't be saved outside of the current session"
   ]
  },
  {
   "cell_type": "code",
   "execution_count": 2,
   "id": "843e8e62",
   "metadata": {
    "execution": {
     "iopub.execute_input": "2024-07-07T14:01:57.949043Z",
     "iopub.status.busy": "2024-07-07T14:01:57.948200Z",
     "iopub.status.idle": "2024-07-07T14:01:57.952761Z",
     "shell.execute_reply": "2024-07-07T14:01:57.951907Z"
    },
    "papermill": {
     "duration": 0.021124,
     "end_time": "2024-07-07T14:01:57.954651",
     "exception": false,
     "start_time": "2024-07-07T14:01:57.933527",
     "status": "completed"
    },
    "tags": []
   },
   "outputs": [],
   "source": [
    "import pandas as pd"
   ]
  },
  {
   "cell_type": "code",
   "execution_count": 3,
   "id": "49c811f0",
   "metadata": {
    "execution": {
     "iopub.execute_input": "2024-07-07T14:01:57.984418Z",
     "iopub.status.busy": "2024-07-07T14:01:57.983778Z",
     "iopub.status.idle": "2024-07-07T14:01:58.004410Z",
     "shell.execute_reply": "2024-07-07T14:01:58.003659Z"
    },
    "papermill": {
     "duration": 0.038263,
     "end_time": "2024-07-07T14:01:58.006386",
     "exception": false,
     "start_time": "2024-07-07T14:01:57.968123",
     "status": "completed"
    },
    "tags": []
   },
   "outputs": [],
   "source": [
    "df=pd.read_csv('/kaggle/input/anaemia-prediction/output.csv')"
   ]
  },
  {
   "cell_type": "code",
   "execution_count": 4,
   "id": "a5e5d909",
   "metadata": {
    "execution": {
     "iopub.execute_input": "2024-07-07T14:01:58.035066Z",
     "iopub.status.busy": "2024-07-07T14:01:58.034797Z",
     "iopub.status.idle": "2024-07-07T14:01:58.041080Z",
     "shell.execute_reply": "2024-07-07T14:01:58.040248Z"
    },
    "papermill": {
     "duration": 0.023331,
     "end_time": "2024-07-07T14:01:58.043445",
     "exception": false,
     "start_time": "2024-07-07T14:01:58.020114",
     "status": "completed"
    },
    "tags": []
   },
   "outputs": [
    {
     "data": {
      "text/plain": [
       "(104, 7)"
      ]
     },
     "execution_count": 4,
     "metadata": {},
     "output_type": "execute_result"
    }
   ],
   "source": [
    "df.shape"
   ]
  },
  {
   "cell_type": "code",
   "execution_count": 5,
   "id": "4e1088df",
   "metadata": {
    "execution": {
     "iopub.execute_input": "2024-07-07T14:01:58.075867Z",
     "iopub.status.busy": "2024-07-07T14:01:58.075305Z",
     "iopub.status.idle": "2024-07-07T14:01:58.099168Z",
     "shell.execute_reply": "2024-07-07T14:01:58.098262Z"
    },
    "papermill": {
     "duration": 0.040252,
     "end_time": "2024-07-07T14:01:58.101137",
     "exception": false,
     "start_time": "2024-07-07T14:01:58.060885",
     "status": "completed"
    },
    "tags": []
   },
   "outputs": [
    {
     "data": {
      "text/html": [
       "<div>\n",
       "<style scoped>\n",
       "    .dataframe tbody tr th:only-of-type {\n",
       "        vertical-align: middle;\n",
       "    }\n",
       "\n",
       "    .dataframe tbody tr th {\n",
       "        vertical-align: top;\n",
       "    }\n",
       "\n",
       "    .dataframe thead th {\n",
       "        text-align: right;\n",
       "    }\n",
       "</style>\n",
       "<table border=\"1\" class=\"dataframe\">\n",
       "  <thead>\n",
       "    <tr style=\"text-align: right;\">\n",
       "      <th></th>\n",
       "      <th>Number</th>\n",
       "      <th>Sex</th>\n",
       "      <th>%Red Pixel</th>\n",
       "      <th>%Green pixel</th>\n",
       "      <th>%Blue pixel</th>\n",
       "      <th>Hb</th>\n",
       "      <th>Anaemic</th>\n",
       "    </tr>\n",
       "  </thead>\n",
       "  <tbody>\n",
       "    <tr>\n",
       "      <th>0</th>\n",
       "      <td>1</td>\n",
       "      <td>M</td>\n",
       "      <td>43.2555</td>\n",
       "      <td>30.8421</td>\n",
       "      <td>25.9025</td>\n",
       "      <td>6.3</td>\n",
       "      <td>Yes</td>\n",
       "    </tr>\n",
       "    <tr>\n",
       "      <th>1</th>\n",
       "      <td>2</td>\n",
       "      <td>F</td>\n",
       "      <td>45.6033</td>\n",
       "      <td>28.1900</td>\n",
       "      <td>26.2067</td>\n",
       "      <td>13.5</td>\n",
       "      <td>No</td>\n",
       "    </tr>\n",
       "    <tr>\n",
       "      <th>2</th>\n",
       "      <td>3</td>\n",
       "      <td>F</td>\n",
       "      <td>45.0107</td>\n",
       "      <td>28.9677</td>\n",
       "      <td>26.0215</td>\n",
       "      <td>11.7</td>\n",
       "      <td>No</td>\n",
       "    </tr>\n",
       "    <tr>\n",
       "      <th>3</th>\n",
       "      <td>4</td>\n",
       "      <td>F</td>\n",
       "      <td>44.5398</td>\n",
       "      <td>28.9899</td>\n",
       "      <td>26.4703</td>\n",
       "      <td>13.5</td>\n",
       "      <td>No</td>\n",
       "    </tr>\n",
       "    <tr>\n",
       "      <th>4</th>\n",
       "      <td>5</td>\n",
       "      <td>M</td>\n",
       "      <td>43.2870</td>\n",
       "      <td>30.6972</td>\n",
       "      <td>26.0158</td>\n",
       "      <td>12.4</td>\n",
       "      <td>No</td>\n",
       "    </tr>\n",
       "  </tbody>\n",
       "</table>\n",
       "</div>"
      ],
      "text/plain": [
       "   Number Sex  %Red Pixel  %Green pixel  %Blue pixel    Hb Anaemic\n",
       "0       1   M     43.2555       30.8421      25.9025   6.3     Yes\n",
       "1       2   F     45.6033       28.1900      26.2067  13.5      No\n",
       "2       3  F      45.0107       28.9677      26.0215  11.7      No\n",
       "3       4   F     44.5398       28.9899      26.4703  13.5      No\n",
       "4       5  M      43.2870       30.6972      26.0158  12.4      No"
      ]
     },
     "execution_count": 5,
     "metadata": {},
     "output_type": "execute_result"
    }
   ],
   "source": [
    "df.head()"
   ]
  },
  {
   "cell_type": "code",
   "execution_count": 6,
   "id": "cbaadeb2",
   "metadata": {
    "execution": {
     "iopub.execute_input": "2024-07-07T14:01:58.131755Z",
     "iopub.status.busy": "2024-07-07T14:01:58.130976Z",
     "iopub.status.idle": "2024-07-07T14:01:58.142164Z",
     "shell.execute_reply": "2024-07-07T14:01:58.141156Z"
    },
    "papermill": {
     "duration": 0.02875,
     "end_time": "2024-07-07T14:01:58.144183",
     "exception": false,
     "start_time": "2024-07-07T14:01:58.115433",
     "status": "completed"
    },
    "tags": []
   },
   "outputs": [
    {
     "data": {
      "text/plain": [
       "Number          0\n",
       "Sex             0\n",
       "%Red Pixel      0\n",
       "%Green pixel    0\n",
       "%Blue pixel     0\n",
       "Hb              0\n",
       "Anaemic         0\n",
       "dtype: int64"
      ]
     },
     "execution_count": 6,
     "metadata": {},
     "output_type": "execute_result"
    }
   ],
   "source": [
    "df.isnull().sum()"
   ]
  },
  {
   "cell_type": "code",
   "execution_count": 7,
   "id": "909a1e76",
   "metadata": {
    "execution": {
     "iopub.execute_input": "2024-07-07T14:01:58.176799Z",
     "iopub.status.busy": "2024-07-07T14:01:58.175861Z",
     "iopub.status.idle": "2024-07-07T14:01:58.185928Z",
     "shell.execute_reply": "2024-07-07T14:01:58.184991Z"
    },
    "papermill": {
     "duration": 0.028128,
     "end_time": "2024-07-07T14:01:58.188358",
     "exception": false,
     "start_time": "2024-07-07T14:01:58.160230",
     "status": "completed"
    },
    "tags": []
   },
   "outputs": [
    {
     "data": {
      "text/plain": [
       "array(['M', 'F', 'F ', 'M '], dtype=object)"
      ]
     },
     "execution_count": 7,
     "metadata": {},
     "output_type": "execute_result"
    }
   ],
   "source": [
    "df['Sex'].unique()"
   ]
  },
  {
   "cell_type": "code",
   "execution_count": 8,
   "id": "b67bfd55",
   "metadata": {
    "execution": {
     "iopub.execute_input": "2024-07-07T14:01:58.224510Z",
     "iopub.status.busy": "2024-07-07T14:01:58.223625Z",
     "iopub.status.idle": "2024-07-07T14:01:58.229598Z",
     "shell.execute_reply": "2024-07-07T14:01:58.228649Z"
    },
    "papermill": {
     "duration": 0.023716,
     "end_time": "2024-07-07T14:01:58.231476",
     "exception": false,
     "start_time": "2024-07-07T14:01:58.207760",
     "status": "completed"
    },
    "tags": []
   },
   "outputs": [],
   "source": [
    "def gender(l):\n",
    "    for i in range(len(l)):\n",
    "        if l[i]=='F ' or l[i]=='F':\n",
    "            return 'F'\n",
    "        else:\n",
    "            return 'M'"
   ]
  },
  {
   "cell_type": "code",
   "execution_count": 9,
   "id": "8428cfdd",
   "metadata": {
    "execution": {
     "iopub.execute_input": "2024-07-07T14:01:58.262516Z",
     "iopub.status.busy": "2024-07-07T14:01:58.261623Z",
     "iopub.status.idle": "2024-07-07T14:01:58.267463Z",
     "shell.execute_reply": "2024-07-07T14:01:58.266542Z"
    },
    "papermill": {
     "duration": 0.023512,
     "end_time": "2024-07-07T14:01:58.269481",
     "exception": false,
     "start_time": "2024-07-07T14:01:58.245969",
     "status": "completed"
    },
    "tags": []
   },
   "outputs": [],
   "source": [
    "df['Sex']=df['Sex'].map(gender)"
   ]
  },
  {
   "cell_type": "code",
   "execution_count": 10,
   "id": "6f62d1a6",
   "metadata": {
    "execution": {
     "iopub.execute_input": "2024-07-07T14:01:58.301309Z",
     "iopub.status.busy": "2024-07-07T14:01:58.300393Z",
     "iopub.status.idle": "2024-07-07T14:01:58.307623Z",
     "shell.execute_reply": "2024-07-07T14:01:58.306744Z"
    },
    "papermill": {
     "duration": 0.025211,
     "end_time": "2024-07-07T14:01:58.309540",
     "exception": false,
     "start_time": "2024-07-07T14:01:58.284329",
     "status": "completed"
    },
    "tags": []
   },
   "outputs": [
    {
     "data": {
      "text/plain": [
       "array(['M', 'F'], dtype=object)"
      ]
     },
     "execution_count": 10,
     "metadata": {},
     "output_type": "execute_result"
    }
   ],
   "source": [
    "df['Sex'].unique()"
   ]
  },
  {
   "cell_type": "code",
   "execution_count": 11,
   "id": "af1f6967",
   "metadata": {
    "execution": {
     "iopub.execute_input": "2024-07-07T14:01:58.339875Z",
     "iopub.status.busy": "2024-07-07T14:01:58.339535Z",
     "iopub.status.idle": "2024-07-07T14:01:58.351410Z",
     "shell.execute_reply": "2024-07-07T14:01:58.350540Z"
    },
    "papermill": {
     "duration": 0.029286,
     "end_time": "2024-07-07T14:01:58.353454",
     "exception": false,
     "start_time": "2024-07-07T14:01:58.324168",
     "status": "completed"
    },
    "tags": []
   },
   "outputs": [],
   "source": [
    "df=pd.get_dummies(df,columns=['Sex'])"
   ]
  },
  {
   "cell_type": "code",
   "execution_count": 12,
   "id": "06b5fbb9",
   "metadata": {
    "execution": {
     "iopub.execute_input": "2024-07-07T14:01:58.384339Z",
     "iopub.status.busy": "2024-07-07T14:01:58.383715Z",
     "iopub.status.idle": "2024-07-07T14:01:58.404367Z",
     "shell.execute_reply": "2024-07-07T14:01:58.403453Z"
    },
    "papermill": {
     "duration": 0.037782,
     "end_time": "2024-07-07T14:01:58.406265",
     "exception": false,
     "start_time": "2024-07-07T14:01:58.368483",
     "status": "completed"
    },
    "tags": []
   },
   "outputs": [
    {
     "data": {
      "text/html": [
       "<div>\n",
       "<style scoped>\n",
       "    .dataframe tbody tr th:only-of-type {\n",
       "        vertical-align: middle;\n",
       "    }\n",
       "\n",
       "    .dataframe tbody tr th {\n",
       "        vertical-align: top;\n",
       "    }\n",
       "\n",
       "    .dataframe thead th {\n",
       "        text-align: right;\n",
       "    }\n",
       "</style>\n",
       "<table border=\"1\" class=\"dataframe\">\n",
       "  <thead>\n",
       "    <tr style=\"text-align: right;\">\n",
       "      <th></th>\n",
       "      <th>Number</th>\n",
       "      <th>%Red Pixel</th>\n",
       "      <th>%Green pixel</th>\n",
       "      <th>%Blue pixel</th>\n",
       "      <th>Hb</th>\n",
       "      <th>Anaemic</th>\n",
       "      <th>Sex_F</th>\n",
       "      <th>Sex_M</th>\n",
       "    </tr>\n",
       "  </thead>\n",
       "  <tbody>\n",
       "    <tr>\n",
       "      <th>0</th>\n",
       "      <td>1</td>\n",
       "      <td>43.2555</td>\n",
       "      <td>30.8421</td>\n",
       "      <td>25.9025</td>\n",
       "      <td>6.3</td>\n",
       "      <td>Yes</td>\n",
       "      <td>False</td>\n",
       "      <td>True</td>\n",
       "    </tr>\n",
       "    <tr>\n",
       "      <th>1</th>\n",
       "      <td>2</td>\n",
       "      <td>45.6033</td>\n",
       "      <td>28.1900</td>\n",
       "      <td>26.2067</td>\n",
       "      <td>13.5</td>\n",
       "      <td>No</td>\n",
       "      <td>True</td>\n",
       "      <td>False</td>\n",
       "    </tr>\n",
       "    <tr>\n",
       "      <th>2</th>\n",
       "      <td>3</td>\n",
       "      <td>45.0107</td>\n",
       "      <td>28.9677</td>\n",
       "      <td>26.0215</td>\n",
       "      <td>11.7</td>\n",
       "      <td>No</td>\n",
       "      <td>True</td>\n",
       "      <td>False</td>\n",
       "    </tr>\n",
       "    <tr>\n",
       "      <th>3</th>\n",
       "      <td>4</td>\n",
       "      <td>44.5398</td>\n",
       "      <td>28.9899</td>\n",
       "      <td>26.4703</td>\n",
       "      <td>13.5</td>\n",
       "      <td>No</td>\n",
       "      <td>True</td>\n",
       "      <td>False</td>\n",
       "    </tr>\n",
       "    <tr>\n",
       "      <th>4</th>\n",
       "      <td>5</td>\n",
       "      <td>43.2870</td>\n",
       "      <td>30.6972</td>\n",
       "      <td>26.0158</td>\n",
       "      <td>12.4</td>\n",
       "      <td>No</td>\n",
       "      <td>False</td>\n",
       "      <td>True</td>\n",
       "    </tr>\n",
       "    <tr>\n",
       "      <th>...</th>\n",
       "      <td>...</td>\n",
       "      <td>...</td>\n",
       "      <td>...</td>\n",
       "      <td>...</td>\n",
       "      <td>...</td>\n",
       "      <td>...</td>\n",
       "      <td>...</td>\n",
       "      <td>...</td>\n",
       "    </tr>\n",
       "    <tr>\n",
       "      <th>99</th>\n",
       "      <td>100</td>\n",
       "      <td>49.9999</td>\n",
       "      <td>29.2860</td>\n",
       "      <td>20.7141</td>\n",
       "      <td>14.5</td>\n",
       "      <td>Yes</td>\n",
       "      <td>True</td>\n",
       "      <td>False</td>\n",
       "    </tr>\n",
       "    <tr>\n",
       "      <th>100</th>\n",
       "      <td>101</td>\n",
       "      <td>42.2324</td>\n",
       "      <td>30.6757</td>\n",
       "      <td>27.0919</td>\n",
       "      <td>6.3</td>\n",
       "      <td>Yes</td>\n",
       "      <td>False</td>\n",
       "      <td>True</td>\n",
       "    </tr>\n",
       "    <tr>\n",
       "      <th>101</th>\n",
       "      <td>102</td>\n",
       "      <td>45.6064</td>\n",
       "      <td>31.9084</td>\n",
       "      <td>22.4852</td>\n",
       "      <td>12.7</td>\n",
       "      <td>No</td>\n",
       "      <td>True</td>\n",
       "      <td>False</td>\n",
       "    </tr>\n",
       "    <tr>\n",
       "      <th>102</th>\n",
       "      <td>103</td>\n",
       "      <td>45.2095</td>\n",
       "      <td>29.2769</td>\n",
       "      <td>25.5136</td>\n",
       "      <td>13.4</td>\n",
       "      <td>No</td>\n",
       "      <td>False</td>\n",
       "      <td>True</td>\n",
       "    </tr>\n",
       "    <tr>\n",
       "      <th>103</th>\n",
       "      <td>104</td>\n",
       "      <td>43.5706</td>\n",
       "      <td>29.8094</td>\n",
       "      <td>26.6199</td>\n",
       "      <td>12.2</td>\n",
       "      <td>No</td>\n",
       "      <td>True</td>\n",
       "      <td>False</td>\n",
       "    </tr>\n",
       "  </tbody>\n",
       "</table>\n",
       "<p>104 rows × 8 columns</p>\n",
       "</div>"
      ],
      "text/plain": [
       "     Number  %Red Pixel  %Green pixel  %Blue pixel    Hb Anaemic  Sex_F  Sex_M\n",
       "0         1     43.2555       30.8421      25.9025   6.3     Yes  False   True\n",
       "1         2     45.6033       28.1900      26.2067  13.5      No   True  False\n",
       "2         3     45.0107       28.9677      26.0215  11.7      No   True  False\n",
       "3         4     44.5398       28.9899      26.4703  13.5      No   True  False\n",
       "4         5     43.2870       30.6972      26.0158  12.4      No  False   True\n",
       "..      ...         ...           ...          ...   ...     ...    ...    ...\n",
       "99      100     49.9999       29.2860      20.7141  14.5     Yes   True  False\n",
       "100     101     42.2324       30.6757      27.0919   6.3     Yes  False   True\n",
       "101     102     45.6064       31.9084      22.4852  12.7      No   True  False\n",
       "102     103     45.2095       29.2769      25.5136  13.4      No  False   True\n",
       "103     104     43.5706       29.8094      26.6199  12.2      No   True  False\n",
       "\n",
       "[104 rows x 8 columns]"
      ]
     },
     "execution_count": 12,
     "metadata": {},
     "output_type": "execute_result"
    }
   ],
   "source": [
    "df"
   ]
  },
  {
   "cell_type": "code",
   "execution_count": 13,
   "id": "dc581021",
   "metadata": {
    "execution": {
     "iopub.execute_input": "2024-07-07T14:01:58.437050Z",
     "iopub.status.busy": "2024-07-07T14:01:58.436784Z",
     "iopub.status.idle": "2024-07-07T14:01:58.442589Z",
     "shell.execute_reply": "2024-07-07T14:01:58.441695Z"
    },
    "papermill": {
     "duration": 0.023921,
     "end_time": "2024-07-07T14:01:58.444872",
     "exception": false,
     "start_time": "2024-07-07T14:01:58.420951",
     "status": "completed"
    },
    "tags": []
   },
   "outputs": [
    {
     "data": {
      "text/plain": [
       "array(['Yes', 'No'], dtype=object)"
      ]
     },
     "execution_count": 13,
     "metadata": {},
     "output_type": "execute_result"
    }
   ],
   "source": [
    "df['Anaemic'].unique()"
   ]
  },
  {
   "cell_type": "code",
   "execution_count": 14,
   "id": "d4aec084",
   "metadata": {
    "execution": {
     "iopub.execute_input": "2024-07-07T14:01:58.480220Z",
     "iopub.status.busy": "2024-07-07T14:01:58.479958Z",
     "iopub.status.idle": "2024-07-07T14:01:59.498388Z",
     "shell.execute_reply": "2024-07-07T14:01:59.497435Z"
    },
    "papermill": {
     "duration": 1.036379,
     "end_time": "2024-07-07T14:01:59.500722",
     "exception": false,
     "start_time": "2024-07-07T14:01:58.464343",
     "status": "completed"
    },
    "tags": []
   },
   "outputs": [],
   "source": [
    "from sklearn import preprocessing"
   ]
  },
  {
   "cell_type": "code",
   "execution_count": 15,
   "id": "57eac7df",
   "metadata": {
    "execution": {
     "iopub.execute_input": "2024-07-07T14:01:59.532044Z",
     "iopub.status.busy": "2024-07-07T14:01:59.531727Z",
     "iopub.status.idle": "2024-07-07T14:01:59.538504Z",
     "shell.execute_reply": "2024-07-07T14:01:59.537646Z"
    },
    "papermill": {
     "duration": 0.024747,
     "end_time": "2024-07-07T14:01:59.540767",
     "exception": false,
     "start_time": "2024-07-07T14:01:59.516020",
     "status": "completed"
    },
    "tags": []
   },
   "outputs": [],
   "source": [
    "le=preprocessing.LabelEncoder()\n",
    "df['Anaemic']=le.fit_transform(df['Anaemic'])\n",
    "df['Sex_F']=le.fit_transform(df['Sex_F'])\n",
    "df['Sex_M']=le.fit_transform(df['Sex_M'])"
   ]
  },
  {
   "cell_type": "code",
   "execution_count": 16,
   "id": "ae0e5ff4",
   "metadata": {
    "execution": {
     "iopub.execute_input": "2024-07-07T14:01:59.572701Z",
     "iopub.status.busy": "2024-07-07T14:01:59.572202Z",
     "iopub.status.idle": "2024-07-07T14:01:59.587029Z",
     "shell.execute_reply": "2024-07-07T14:01:59.586246Z"
    },
    "papermill": {
     "duration": 0.032214,
     "end_time": "2024-07-07T14:01:59.588874",
     "exception": false,
     "start_time": "2024-07-07T14:01:59.556660",
     "status": "completed"
    },
    "tags": []
   },
   "outputs": [
    {
     "data": {
      "text/html": [
       "<div>\n",
       "<style scoped>\n",
       "    .dataframe tbody tr th:only-of-type {\n",
       "        vertical-align: middle;\n",
       "    }\n",
       "\n",
       "    .dataframe tbody tr th {\n",
       "        vertical-align: top;\n",
       "    }\n",
       "\n",
       "    .dataframe thead th {\n",
       "        text-align: right;\n",
       "    }\n",
       "</style>\n",
       "<table border=\"1\" class=\"dataframe\">\n",
       "  <thead>\n",
       "    <tr style=\"text-align: right;\">\n",
       "      <th></th>\n",
       "      <th>Number</th>\n",
       "      <th>%Red Pixel</th>\n",
       "      <th>%Green pixel</th>\n",
       "      <th>%Blue pixel</th>\n",
       "      <th>Hb</th>\n",
       "      <th>Anaemic</th>\n",
       "      <th>Sex_F</th>\n",
       "      <th>Sex_M</th>\n",
       "    </tr>\n",
       "  </thead>\n",
       "  <tbody>\n",
       "    <tr>\n",
       "      <th>0</th>\n",
       "      <td>1</td>\n",
       "      <td>43.2555</td>\n",
       "      <td>30.8421</td>\n",
       "      <td>25.9025</td>\n",
       "      <td>6.3</td>\n",
       "      <td>1</td>\n",
       "      <td>0</td>\n",
       "      <td>1</td>\n",
       "    </tr>\n",
       "    <tr>\n",
       "      <th>1</th>\n",
       "      <td>2</td>\n",
       "      <td>45.6033</td>\n",
       "      <td>28.1900</td>\n",
       "      <td>26.2067</td>\n",
       "      <td>13.5</td>\n",
       "      <td>0</td>\n",
       "      <td>1</td>\n",
       "      <td>0</td>\n",
       "    </tr>\n",
       "    <tr>\n",
       "      <th>2</th>\n",
       "      <td>3</td>\n",
       "      <td>45.0107</td>\n",
       "      <td>28.9677</td>\n",
       "      <td>26.0215</td>\n",
       "      <td>11.7</td>\n",
       "      <td>0</td>\n",
       "      <td>1</td>\n",
       "      <td>0</td>\n",
       "    </tr>\n",
       "    <tr>\n",
       "      <th>3</th>\n",
       "      <td>4</td>\n",
       "      <td>44.5398</td>\n",
       "      <td>28.9899</td>\n",
       "      <td>26.4703</td>\n",
       "      <td>13.5</td>\n",
       "      <td>0</td>\n",
       "      <td>1</td>\n",
       "      <td>0</td>\n",
       "    </tr>\n",
       "    <tr>\n",
       "      <th>4</th>\n",
       "      <td>5</td>\n",
       "      <td>43.2870</td>\n",
       "      <td>30.6972</td>\n",
       "      <td>26.0158</td>\n",
       "      <td>12.4</td>\n",
       "      <td>0</td>\n",
       "      <td>0</td>\n",
       "      <td>1</td>\n",
       "    </tr>\n",
       "    <tr>\n",
       "      <th>...</th>\n",
       "      <td>...</td>\n",
       "      <td>...</td>\n",
       "      <td>...</td>\n",
       "      <td>...</td>\n",
       "      <td>...</td>\n",
       "      <td>...</td>\n",
       "      <td>...</td>\n",
       "      <td>...</td>\n",
       "    </tr>\n",
       "    <tr>\n",
       "      <th>99</th>\n",
       "      <td>100</td>\n",
       "      <td>49.9999</td>\n",
       "      <td>29.2860</td>\n",
       "      <td>20.7141</td>\n",
       "      <td>14.5</td>\n",
       "      <td>1</td>\n",
       "      <td>1</td>\n",
       "      <td>0</td>\n",
       "    </tr>\n",
       "    <tr>\n",
       "      <th>100</th>\n",
       "      <td>101</td>\n",
       "      <td>42.2324</td>\n",
       "      <td>30.6757</td>\n",
       "      <td>27.0919</td>\n",
       "      <td>6.3</td>\n",
       "      <td>1</td>\n",
       "      <td>0</td>\n",
       "      <td>1</td>\n",
       "    </tr>\n",
       "    <tr>\n",
       "      <th>101</th>\n",
       "      <td>102</td>\n",
       "      <td>45.6064</td>\n",
       "      <td>31.9084</td>\n",
       "      <td>22.4852</td>\n",
       "      <td>12.7</td>\n",
       "      <td>0</td>\n",
       "      <td>1</td>\n",
       "      <td>0</td>\n",
       "    </tr>\n",
       "    <tr>\n",
       "      <th>102</th>\n",
       "      <td>103</td>\n",
       "      <td>45.2095</td>\n",
       "      <td>29.2769</td>\n",
       "      <td>25.5136</td>\n",
       "      <td>13.4</td>\n",
       "      <td>0</td>\n",
       "      <td>0</td>\n",
       "      <td>1</td>\n",
       "    </tr>\n",
       "    <tr>\n",
       "      <th>103</th>\n",
       "      <td>104</td>\n",
       "      <td>43.5706</td>\n",
       "      <td>29.8094</td>\n",
       "      <td>26.6199</td>\n",
       "      <td>12.2</td>\n",
       "      <td>0</td>\n",
       "      <td>1</td>\n",
       "      <td>0</td>\n",
       "    </tr>\n",
       "  </tbody>\n",
       "</table>\n",
       "<p>104 rows × 8 columns</p>\n",
       "</div>"
      ],
      "text/plain": [
       "     Number  %Red Pixel  %Green pixel  %Blue pixel    Hb  Anaemic  Sex_F  \\\n",
       "0         1     43.2555       30.8421      25.9025   6.3        1      0   \n",
       "1         2     45.6033       28.1900      26.2067  13.5        0      1   \n",
       "2         3     45.0107       28.9677      26.0215  11.7        0      1   \n",
       "3         4     44.5398       28.9899      26.4703  13.5        0      1   \n",
       "4         5     43.2870       30.6972      26.0158  12.4        0      0   \n",
       "..      ...         ...           ...          ...   ...      ...    ...   \n",
       "99      100     49.9999       29.2860      20.7141  14.5        1      1   \n",
       "100     101     42.2324       30.6757      27.0919   6.3        1      0   \n",
       "101     102     45.6064       31.9084      22.4852  12.7        0      1   \n",
       "102     103     45.2095       29.2769      25.5136  13.4        0      0   \n",
       "103     104     43.5706       29.8094      26.6199  12.2        0      1   \n",
       "\n",
       "     Sex_M  \n",
       "0        1  \n",
       "1        0  \n",
       "2        0  \n",
       "3        0  \n",
       "4        1  \n",
       "..     ...  \n",
       "99       0  \n",
       "100      1  \n",
       "101      0  \n",
       "102      1  \n",
       "103      0  \n",
       "\n",
       "[104 rows x 8 columns]"
      ]
     },
     "execution_count": 16,
     "metadata": {},
     "output_type": "execute_result"
    }
   ],
   "source": [
    "df"
   ]
  },
  {
   "cell_type": "code",
   "execution_count": 17,
   "id": "3dd385f6",
   "metadata": {
    "execution": {
     "iopub.execute_input": "2024-07-07T14:01:59.620315Z",
     "iopub.status.busy": "2024-07-07T14:01:59.620037Z",
     "iopub.status.idle": "2024-07-07T14:01:59.624694Z",
     "shell.execute_reply": "2024-07-07T14:01:59.623833Z"
    },
    "papermill": {
     "duration": 0.022355,
     "end_time": "2024-07-07T14:01:59.626617",
     "exception": false,
     "start_time": "2024-07-07T14:01:59.604262",
     "status": "completed"
    },
    "tags": []
   },
   "outputs": [],
   "source": [
    "df=df.drop('Sex_F',axis='columns')"
   ]
  },
  {
   "cell_type": "code",
   "execution_count": 18,
   "id": "2b4ff3bc",
   "metadata": {
    "execution": {
     "iopub.execute_input": "2024-07-07T14:01:59.657970Z",
     "iopub.status.busy": "2024-07-07T14:01:59.657286Z",
     "iopub.status.idle": "2024-07-07T14:01:59.671431Z",
     "shell.execute_reply": "2024-07-07T14:01:59.670628Z"
    },
    "papermill": {
     "duration": 0.031828,
     "end_time": "2024-07-07T14:01:59.673275",
     "exception": false,
     "start_time": "2024-07-07T14:01:59.641447",
     "status": "completed"
    },
    "tags": []
   },
   "outputs": [
    {
     "data": {
      "text/html": [
       "<div>\n",
       "<style scoped>\n",
       "    .dataframe tbody tr th:only-of-type {\n",
       "        vertical-align: middle;\n",
       "    }\n",
       "\n",
       "    .dataframe tbody tr th {\n",
       "        vertical-align: top;\n",
       "    }\n",
       "\n",
       "    .dataframe thead th {\n",
       "        text-align: right;\n",
       "    }\n",
       "</style>\n",
       "<table border=\"1\" class=\"dataframe\">\n",
       "  <thead>\n",
       "    <tr style=\"text-align: right;\">\n",
       "      <th></th>\n",
       "      <th>Number</th>\n",
       "      <th>%Red Pixel</th>\n",
       "      <th>%Green pixel</th>\n",
       "      <th>%Blue pixel</th>\n",
       "      <th>Hb</th>\n",
       "      <th>Anaemic</th>\n",
       "      <th>Sex_M</th>\n",
       "    </tr>\n",
       "  </thead>\n",
       "  <tbody>\n",
       "    <tr>\n",
       "      <th>0</th>\n",
       "      <td>1</td>\n",
       "      <td>43.2555</td>\n",
       "      <td>30.8421</td>\n",
       "      <td>25.9025</td>\n",
       "      <td>6.3</td>\n",
       "      <td>1</td>\n",
       "      <td>1</td>\n",
       "    </tr>\n",
       "    <tr>\n",
       "      <th>1</th>\n",
       "      <td>2</td>\n",
       "      <td>45.6033</td>\n",
       "      <td>28.1900</td>\n",
       "      <td>26.2067</td>\n",
       "      <td>13.5</td>\n",
       "      <td>0</td>\n",
       "      <td>0</td>\n",
       "    </tr>\n",
       "    <tr>\n",
       "      <th>2</th>\n",
       "      <td>3</td>\n",
       "      <td>45.0107</td>\n",
       "      <td>28.9677</td>\n",
       "      <td>26.0215</td>\n",
       "      <td>11.7</td>\n",
       "      <td>0</td>\n",
       "      <td>0</td>\n",
       "    </tr>\n",
       "    <tr>\n",
       "      <th>3</th>\n",
       "      <td>4</td>\n",
       "      <td>44.5398</td>\n",
       "      <td>28.9899</td>\n",
       "      <td>26.4703</td>\n",
       "      <td>13.5</td>\n",
       "      <td>0</td>\n",
       "      <td>0</td>\n",
       "    </tr>\n",
       "    <tr>\n",
       "      <th>4</th>\n",
       "      <td>5</td>\n",
       "      <td>43.2870</td>\n",
       "      <td>30.6972</td>\n",
       "      <td>26.0158</td>\n",
       "      <td>12.4</td>\n",
       "      <td>0</td>\n",
       "      <td>1</td>\n",
       "    </tr>\n",
       "    <tr>\n",
       "      <th>...</th>\n",
       "      <td>...</td>\n",
       "      <td>...</td>\n",
       "      <td>...</td>\n",
       "      <td>...</td>\n",
       "      <td>...</td>\n",
       "      <td>...</td>\n",
       "      <td>...</td>\n",
       "    </tr>\n",
       "    <tr>\n",
       "      <th>99</th>\n",
       "      <td>100</td>\n",
       "      <td>49.9999</td>\n",
       "      <td>29.2860</td>\n",
       "      <td>20.7141</td>\n",
       "      <td>14.5</td>\n",
       "      <td>1</td>\n",
       "      <td>0</td>\n",
       "    </tr>\n",
       "    <tr>\n",
       "      <th>100</th>\n",
       "      <td>101</td>\n",
       "      <td>42.2324</td>\n",
       "      <td>30.6757</td>\n",
       "      <td>27.0919</td>\n",
       "      <td>6.3</td>\n",
       "      <td>1</td>\n",
       "      <td>1</td>\n",
       "    </tr>\n",
       "    <tr>\n",
       "      <th>101</th>\n",
       "      <td>102</td>\n",
       "      <td>45.6064</td>\n",
       "      <td>31.9084</td>\n",
       "      <td>22.4852</td>\n",
       "      <td>12.7</td>\n",
       "      <td>0</td>\n",
       "      <td>0</td>\n",
       "    </tr>\n",
       "    <tr>\n",
       "      <th>102</th>\n",
       "      <td>103</td>\n",
       "      <td>45.2095</td>\n",
       "      <td>29.2769</td>\n",
       "      <td>25.5136</td>\n",
       "      <td>13.4</td>\n",
       "      <td>0</td>\n",
       "      <td>1</td>\n",
       "    </tr>\n",
       "    <tr>\n",
       "      <th>103</th>\n",
       "      <td>104</td>\n",
       "      <td>43.5706</td>\n",
       "      <td>29.8094</td>\n",
       "      <td>26.6199</td>\n",
       "      <td>12.2</td>\n",
       "      <td>0</td>\n",
       "      <td>0</td>\n",
       "    </tr>\n",
       "  </tbody>\n",
       "</table>\n",
       "<p>104 rows × 7 columns</p>\n",
       "</div>"
      ],
      "text/plain": [
       "     Number  %Red Pixel  %Green pixel  %Blue pixel    Hb  Anaemic  Sex_M\n",
       "0         1     43.2555       30.8421      25.9025   6.3        1      1\n",
       "1         2     45.6033       28.1900      26.2067  13.5        0      0\n",
       "2         3     45.0107       28.9677      26.0215  11.7        0      0\n",
       "3         4     44.5398       28.9899      26.4703  13.5        0      0\n",
       "4         5     43.2870       30.6972      26.0158  12.4        0      1\n",
       "..      ...         ...           ...          ...   ...      ...    ...\n",
       "99      100     49.9999       29.2860      20.7141  14.5        1      0\n",
       "100     101     42.2324       30.6757      27.0919   6.3        1      1\n",
       "101     102     45.6064       31.9084      22.4852  12.7        0      0\n",
       "102     103     45.2095       29.2769      25.5136  13.4        0      1\n",
       "103     104     43.5706       29.8094      26.6199  12.2        0      0\n",
       "\n",
       "[104 rows x 7 columns]"
      ]
     },
     "execution_count": 18,
     "metadata": {},
     "output_type": "execute_result"
    }
   ],
   "source": [
    "df"
   ]
  },
  {
   "cell_type": "code",
   "execution_count": 19,
   "id": "9ad7ef4e",
   "metadata": {
    "execution": {
     "iopub.execute_input": "2024-07-07T14:01:59.705107Z",
     "iopub.status.busy": "2024-07-07T14:01:59.704449Z",
     "iopub.status.idle": "2024-07-07T14:01:59.718872Z",
     "shell.execute_reply": "2024-07-07T14:01:59.717962Z"
    },
    "papermill": {
     "duration": 0.032442,
     "end_time": "2024-07-07T14:01:59.720978",
     "exception": false,
     "start_time": "2024-07-07T14:01:59.688536",
     "status": "completed"
    },
    "tags": []
   },
   "outputs": [
    {
     "data": {
      "text/html": [
       "<div>\n",
       "<style scoped>\n",
       "    .dataframe tbody tr th:only-of-type {\n",
       "        vertical-align: middle;\n",
       "    }\n",
       "\n",
       "    .dataframe tbody tr th {\n",
       "        vertical-align: top;\n",
       "    }\n",
       "\n",
       "    .dataframe thead th {\n",
       "        text-align: right;\n",
       "    }\n",
       "</style>\n",
       "<table border=\"1\" class=\"dataframe\">\n",
       "  <thead>\n",
       "    <tr style=\"text-align: right;\">\n",
       "      <th></th>\n",
       "      <th>%Red Pixel</th>\n",
       "      <th>%Green pixel</th>\n",
       "      <th>%Blue pixel</th>\n",
       "      <th>Hb</th>\n",
       "      <th>Anaemic</th>\n",
       "      <th>Sex_M</th>\n",
       "    </tr>\n",
       "  </thead>\n",
       "  <tbody>\n",
       "    <tr>\n",
       "      <th>0</th>\n",
       "      <td>43.2555</td>\n",
       "      <td>30.8421</td>\n",
       "      <td>25.9025</td>\n",
       "      <td>6.3</td>\n",
       "      <td>1</td>\n",
       "      <td>1</td>\n",
       "    </tr>\n",
       "    <tr>\n",
       "      <th>1</th>\n",
       "      <td>45.6033</td>\n",
       "      <td>28.1900</td>\n",
       "      <td>26.2067</td>\n",
       "      <td>13.5</td>\n",
       "      <td>0</td>\n",
       "      <td>0</td>\n",
       "    </tr>\n",
       "    <tr>\n",
       "      <th>2</th>\n",
       "      <td>45.0107</td>\n",
       "      <td>28.9677</td>\n",
       "      <td>26.0215</td>\n",
       "      <td>11.7</td>\n",
       "      <td>0</td>\n",
       "      <td>0</td>\n",
       "    </tr>\n",
       "    <tr>\n",
       "      <th>3</th>\n",
       "      <td>44.5398</td>\n",
       "      <td>28.9899</td>\n",
       "      <td>26.4703</td>\n",
       "      <td>13.5</td>\n",
       "      <td>0</td>\n",
       "      <td>0</td>\n",
       "    </tr>\n",
       "    <tr>\n",
       "      <th>4</th>\n",
       "      <td>43.2870</td>\n",
       "      <td>30.6972</td>\n",
       "      <td>26.0158</td>\n",
       "      <td>12.4</td>\n",
       "      <td>0</td>\n",
       "      <td>1</td>\n",
       "    </tr>\n",
       "    <tr>\n",
       "      <th>...</th>\n",
       "      <td>...</td>\n",
       "      <td>...</td>\n",
       "      <td>...</td>\n",
       "      <td>...</td>\n",
       "      <td>...</td>\n",
       "      <td>...</td>\n",
       "    </tr>\n",
       "    <tr>\n",
       "      <th>99</th>\n",
       "      <td>49.9999</td>\n",
       "      <td>29.2860</td>\n",
       "      <td>20.7141</td>\n",
       "      <td>14.5</td>\n",
       "      <td>1</td>\n",
       "      <td>0</td>\n",
       "    </tr>\n",
       "    <tr>\n",
       "      <th>100</th>\n",
       "      <td>42.2324</td>\n",
       "      <td>30.6757</td>\n",
       "      <td>27.0919</td>\n",
       "      <td>6.3</td>\n",
       "      <td>1</td>\n",
       "      <td>1</td>\n",
       "    </tr>\n",
       "    <tr>\n",
       "      <th>101</th>\n",
       "      <td>45.6064</td>\n",
       "      <td>31.9084</td>\n",
       "      <td>22.4852</td>\n",
       "      <td>12.7</td>\n",
       "      <td>0</td>\n",
       "      <td>0</td>\n",
       "    </tr>\n",
       "    <tr>\n",
       "      <th>102</th>\n",
       "      <td>45.2095</td>\n",
       "      <td>29.2769</td>\n",
       "      <td>25.5136</td>\n",
       "      <td>13.4</td>\n",
       "      <td>0</td>\n",
       "      <td>1</td>\n",
       "    </tr>\n",
       "    <tr>\n",
       "      <th>103</th>\n",
       "      <td>43.5706</td>\n",
       "      <td>29.8094</td>\n",
       "      <td>26.6199</td>\n",
       "      <td>12.2</td>\n",
       "      <td>0</td>\n",
       "      <td>0</td>\n",
       "    </tr>\n",
       "  </tbody>\n",
       "</table>\n",
       "<p>104 rows × 6 columns</p>\n",
       "</div>"
      ],
      "text/plain": [
       "     %Red Pixel  %Green pixel  %Blue pixel    Hb  Anaemic  Sex_M\n",
       "0       43.2555       30.8421      25.9025   6.3        1      1\n",
       "1       45.6033       28.1900      26.2067  13.5        0      0\n",
       "2       45.0107       28.9677      26.0215  11.7        0      0\n",
       "3       44.5398       28.9899      26.4703  13.5        0      0\n",
       "4       43.2870       30.6972      26.0158  12.4        0      1\n",
       "..          ...           ...          ...   ...      ...    ...\n",
       "99      49.9999       29.2860      20.7141  14.5        1      0\n",
       "100     42.2324       30.6757      27.0919   6.3        1      1\n",
       "101     45.6064       31.9084      22.4852  12.7        0      0\n",
       "102     45.2095       29.2769      25.5136  13.4        0      1\n",
       "103     43.5706       29.8094      26.6199  12.2        0      0\n",
       "\n",
       "[104 rows x 6 columns]"
      ]
     },
     "execution_count": 19,
     "metadata": {},
     "output_type": "execute_result"
    }
   ],
   "source": [
    "df=df.drop('Number',axis='columns')\n",
    "df"
   ]
  },
  {
   "cell_type": "code",
   "execution_count": 20,
   "id": "19301d2a",
   "metadata": {
    "execution": {
     "iopub.execute_input": "2024-07-07T14:01:59.754426Z",
     "iopub.status.busy": "2024-07-07T14:01:59.753742Z",
     "iopub.status.idle": "2024-07-07T14:02:01.387087Z",
     "shell.execute_reply": "2024-07-07T14:02:01.386131Z"
    },
    "papermill": {
     "duration": 1.652624,
     "end_time": "2024-07-07T14:02:01.389577",
     "exception": false,
     "start_time": "2024-07-07T14:01:59.736953",
     "status": "completed"
    },
    "tags": []
   },
   "outputs": [
    {
     "data": {
      "image/png": "[encoded data removed]",
      "text/plain": [
       "<Figure size 1000x800 with 6 Axes>"
      ]
     },
     "metadata": {},
     "output_type": "display_data"
    }
   ],
   "source": [
    "import matplotlib.pyplot as plt\n",
    "df.hist(bins=30, figsize=(10, 8))\n",
    "plt.tight_layout()\n",
    "plt.show()"
   ]
  },
  {
   "cell_type": "code",
   "execution_count": 21,
   "id": "3429d736",
   "metadata": {
    "execution": {
     "iopub.execute_input": "2024-07-07T14:02:01.425559Z",
     "iopub.status.busy": "2024-07-07T14:02:01.424293Z",
     "iopub.status.idle": "2024-07-07T14:02:01.429968Z",
     "shell.execute_reply": "2024-07-07T14:02:01.429131Z"
    },
    "papermill": {
     "duration": 0.024861,
     "end_time": "2024-07-07T14:02:01.431946",
     "exception": false,
     "start_time": "2024-07-07T14:02:01.407085",
     "status": "completed"
    },
    "tags": []
   },
   "outputs": [],
   "source": [
    "X=df.iloc[:,[0,1,2,3,5]]"
   ]
  },
  {
   "cell_type": "code",
   "execution_count": 22,
   "id": "8de1061c",
   "metadata": {
    "execution": {
     "iopub.execute_input": "2024-07-07T14:02:01.515942Z",
     "iopub.status.busy": "2024-07-07T14:02:01.515609Z",
     "iopub.status.idle": "2024-07-07T14:02:01.529929Z",
     "shell.execute_reply": "2024-07-07T14:02:01.529068Z"
    },
    "papermill": {
     "duration": 0.033806,
     "end_time": "2024-07-07T14:02:01.532006",
     "exception": false,
     "start_time": "2024-07-07T14:02:01.498200",
     "status": "completed"
    },
    "tags": []
   },
   "outputs": [
    {
     "data": {
      "text/html": [
       "<div>\n",
       "<style scoped>\n",
       "    .dataframe tbody tr th:only-of-type {\n",
       "        vertical-align: middle;\n",
       "    }\n",
       "\n",
       "    .dataframe tbody tr th {\n",
       "        vertical-align: top;\n",
       "    }\n",
       "\n",
       "    .dataframe thead th {\n",
       "        text-align: right;\n",
       "    }\n",
       "</style>\n",
       "<table border=\"1\" class=\"dataframe\">\n",
       "  <thead>\n",
       "    <tr style=\"text-align: right;\">\n",
       "      <th></th>\n",
       "      <th>%Red Pixel</th>\n",
       "      <th>%Green pixel</th>\n",
       "      <th>%Blue pixel</th>\n",
       "      <th>Hb</th>\n",
       "      <th>Sex_M</th>\n",
       "    </tr>\n",
       "  </thead>\n",
       "  <tbody>\n",
       "    <tr>\n",
       "      <th>0</th>\n",
       "      <td>43.2555</td>\n",
       "      <td>30.8421</td>\n",
       "      <td>25.9025</td>\n",
       "      <td>6.3</td>\n",
       "      <td>1</td>\n",
       "    </tr>\n",
       "    <tr>\n",
       "      <th>1</th>\n",
       "      <td>45.6033</td>\n",
       "      <td>28.1900</td>\n",
       "      <td>26.2067</td>\n",
       "      <td>13.5</td>\n",
       "      <td>0</td>\n",
       "    </tr>\n",
       "    <tr>\n",
       "      <th>2</th>\n",
       "      <td>45.0107</td>\n",
       "      <td>28.9677</td>\n",
       "      <td>26.0215</td>\n",
       "      <td>11.7</td>\n",
       "      <td>0</td>\n",
       "    </tr>\n",
       "    <tr>\n",
       "      <th>3</th>\n",
       "      <td>44.5398</td>\n",
       "      <td>28.9899</td>\n",
       "      <td>26.4703</td>\n",
       "      <td>13.5</td>\n",
       "      <td>0</td>\n",
       "    </tr>\n",
       "    <tr>\n",
       "      <th>4</th>\n",
       "      <td>43.2870</td>\n",
       "      <td>30.6972</td>\n",
       "      <td>26.0158</td>\n",
       "      <td>12.4</td>\n",
       "      <td>1</td>\n",
       "    </tr>\n",
       "    <tr>\n",
       "      <th>...</th>\n",
       "      <td>...</td>\n",
       "      <td>...</td>\n",
       "      <td>...</td>\n",
       "      <td>...</td>\n",
       "      <td>...</td>\n",
       "    </tr>\n",
       "    <tr>\n",
       "      <th>99</th>\n",
       "      <td>49.9999</td>\n",
       "      <td>29.2860</td>\n",
       "      <td>20.7141</td>\n",
       "      <td>14.5</td>\n",
       "      <td>0</td>\n",
       "    </tr>\n",
       "    <tr>\n",
       "      <th>100</th>\n",
       "      <td>42.2324</td>\n",
       "      <td>30.6757</td>\n",
       "      <td>27.0919</td>\n",
       "      <td>6.3</td>\n",
       "      <td>1</td>\n",
       "    </tr>\n",
       "    <tr>\n",
       "      <th>101</th>\n",
       "      <td>45.6064</td>\n",
       "      <td>31.9084</td>\n",
       "      <td>22.4852</td>\n",
       "      <td>12.7</td>\n",
       "      <td>0</td>\n",
       "    </tr>\n",
       "    <tr>\n",
       "      <th>102</th>\n",
       "      <td>45.2095</td>\n",
       "      <td>29.2769</td>\n",
       "      <td>25.5136</td>\n",
       "      <td>13.4</td>\n",
       "      <td>1</td>\n",
       "    </tr>\n",
       "    <tr>\n",
       "      <th>103</th>\n",
       "      <td>43.5706</td>\n",
       "      <td>29.8094</td>\n",
       "      <td>26.6199</td>\n",
       "      <td>12.2</td>\n",
       "      <td>0</td>\n",
       "    </tr>\n",
       "  </tbody>\n",
       "</table>\n",
       "<p>104 rows × 5 columns</p>\n",
       "</div>"
      ],
      "text/plain": [
       "     %Red Pixel  %Green pixel  %Blue pixel    Hb  Sex_M\n",
       "0       43.2555       30.8421      25.9025   6.3      1\n",
       "1       45.6033       28.1900      26.2067  13.5      0\n",
       "2       45.0107       28.9677      26.0215  11.7      0\n",
       "3       44.5398       28.9899      26.4703  13.5      0\n",
       "4       43.2870       30.6972      26.0158  12.4      1\n",
       "..          ...           ...          ...   ...    ...\n",
       "99      49.9999       29.2860      20.7141  14.5      0\n",
       "100     42.2324       30.6757      27.0919   6.3      1\n",
       "101     45.6064       31.9084      22.4852  12.7      0\n",
       "102     45.2095       29.2769      25.5136  13.4      1\n",
       "103     43.5706       29.8094      26.6199  12.2      0\n",
       "\n",
       "[104 rows x 5 columns]"
      ]
     },
     "execution_count": 22,
     "metadata": {},
     "output_type": "execute_result"
    }
   ],
   "source": [
    "X"
   ]
  },
  {
   "cell_type": "code",
   "execution_count": 23,
   "id": "f6f97eea",
   "metadata": {
    "execution": {
     "iopub.execute_input": "2024-07-07T14:02:01.567166Z",
     "iopub.status.busy": "2024-07-07T14:02:01.566507Z",
     "iopub.status.idle": "2024-07-07T14:02:01.572663Z",
     "shell.execute_reply": "2024-07-07T14:02:01.571830Z"
    },
    "papermill": {
     "duration": 0.025255,
     "end_time": "2024-07-07T14:02:01.574523",
     "exception": false,
     "start_time": "2024-07-07T14:02:01.549268",
     "status": "completed"
    },
    "tags": []
   },
   "outputs": [
    {
     "data": {
      "text/plain": [
       "16.3"
      ]
     },
     "execution_count": 23,
     "metadata": {},
     "output_type": "execute_result"
    }
   ],
   "source": [
    "df['Hb'].max()"
   ]
  },
  {
   "cell_type": "code",
   "execution_count": 24,
   "id": "90dc6db2",
   "metadata": {
    "execution": {
     "iopub.execute_input": "2024-07-07T14:02:01.617575Z",
     "iopub.status.busy": "2024-07-07T14:02:01.617248Z",
     "iopub.status.idle": "2024-07-07T14:02:01.623448Z",
     "shell.execute_reply": "2024-07-07T14:02:01.622539Z"
    },
    "papermill": {
     "duration": 0.031419,
     "end_time": "2024-07-07T14:02:01.625859",
     "exception": false,
     "start_time": "2024-07-07T14:02:01.594440",
     "status": "completed"
    },
    "tags": []
   },
   "outputs": [
    {
     "data": {
      "text/plain": [
       "54.6478"
      ]
     },
     "execution_count": 24,
     "metadata": {},
     "output_type": "execute_result"
    }
   ],
   "source": [
    "df['%Red Pixel'].max()"
   ]
  },
  {
   "cell_type": "code",
   "execution_count": 25,
   "id": "d226ade8",
   "metadata": {
    "execution": {
     "iopub.execute_input": "2024-07-07T14:02:01.666537Z",
     "iopub.status.busy": "2024-07-07T14:02:01.666180Z",
     "iopub.status.idle": "2024-07-07T14:02:01.671136Z",
     "shell.execute_reply": "2024-07-07T14:02:01.670257Z"
    },
    "papermill": {
     "duration": 0.02535,
     "end_time": "2024-07-07T14:02:01.673260",
     "exception": false,
     "start_time": "2024-07-07T14:02:01.647910",
     "status": "completed"
    },
    "tags": []
   },
   "outputs": [],
   "source": [
    "Y=df.drop(X,axis='columns')"
   ]
  },
  {
   "cell_type": "code",
   "execution_count": 26,
   "id": "ce42f2f0",
   "metadata": {
    "execution": {
     "iopub.execute_input": "2024-07-07T14:02:01.710080Z",
     "iopub.status.busy": "2024-07-07T14:02:01.709466Z",
     "iopub.status.idle": "2024-07-07T14:02:01.713652Z",
     "shell.execute_reply": "2024-07-07T14:02:01.712774Z"
    },
    "papermill": {
     "duration": 0.02424,
     "end_time": "2024-07-07T14:02:01.715621",
     "exception": false,
     "start_time": "2024-07-07T14:02:01.691381",
     "status": "completed"
    },
    "tags": []
   },
   "outputs": [],
   "source": [
    "Y=Y.values"
   ]
  },
  {
   "cell_type": "code",
   "execution_count": 27,
   "id": "fe84059c",
   "metadata": {
    "execution": {
     "iopub.execute_input": "2024-07-07T14:02:01.750591Z",
     "iopub.status.busy": "2024-07-07T14:02:01.749919Z",
     "iopub.status.idle": "2024-07-07T14:02:01.755371Z",
     "shell.execute_reply": "2024-07-07T14:02:01.754560Z"
    },
    "papermill": {
     "duration": 0.024879,
     "end_time": "2024-07-07T14:02:01.757313",
     "exception": false,
     "start_time": "2024-07-07T14:02:01.732434",
     "status": "completed"
    },
    "tags": []
   },
   "outputs": [
    {
     "data": {
      "text/plain": [
       "array([1])"
      ]
     },
     "execution_count": 27,
     "metadata": {},
     "output_type": "execute_result"
    }
   ],
   "source": [
    "Y[0]"
   ]
  },
  {
   "cell_type": "code",
   "execution_count": 28,
   "id": "00cf5752",
   "metadata": {
    "execution": {
     "iopub.execute_input": "2024-07-07T14:02:01.793278Z",
     "iopub.status.busy": "2024-07-07T14:02:01.792925Z",
     "iopub.status.idle": "2024-07-07T14:02:01.877077Z",
     "shell.execute_reply": "2024-07-07T14:02:01.876312Z"
    },
    "papermill": {
     "duration": 0.104765,
     "end_time": "2024-07-07T14:02:01.879448",
     "exception": false,
     "start_time": "2024-07-07T14:02:01.774683",
     "status": "completed"
    },
    "tags": []
   },
   "outputs": [],
   "source": [
    "from sklearn.model_selection import train_test_split\n",
    "X_train,X_test,y_train,y_test=train_test_split(X,Y,test_size=0.25,random_state=0)"
   ]
  },
  {
   "cell_type": "code",
   "execution_count": 29,
   "id": "a69013ae",
   "metadata": {
    "execution": {
     "iopub.execute_input": "2024-07-07T14:02:01.915822Z",
     "iopub.status.busy": "2024-07-07T14:02:01.915154Z",
     "iopub.status.idle": "2024-07-07T14:02:01.920797Z",
     "shell.execute_reply": "2024-07-07T14:02:01.919910Z"
    },
    "papermill": {
     "duration": 0.025507,
     "end_time": "2024-07-07T14:02:01.922847",
     "exception": false,
     "start_time": "2024-07-07T14:02:01.897340",
     "status": "completed"
    },
    "tags": []
   },
   "outputs": [
    {
     "data": {
      "text/plain": [
       "(78, 5)"
      ]
     },
     "execution_count": 29,
     "metadata": {},
     "output_type": "execute_result"
    }
   ],
   "source": [
    "X_train.shape"
   ]
  },
  {
   "cell_type": "code",
   "execution_count": 30,
   "id": "02951b8c",
   "metadata": {
    "execution": {
     "iopub.execute_input": "2024-07-07T14:02:01.959089Z",
     "iopub.status.busy": "2024-07-07T14:02:01.958316Z",
     "iopub.status.idle": "2024-07-07T14:02:01.964086Z",
     "shell.execute_reply": "2024-07-07T14:02:01.963237Z"
    },
    "papermill": {
     "duration": 0.025916,
     "end_time": "2024-07-07T14:02:01.965908",
     "exception": false,
     "start_time": "2024-07-07T14:02:01.939992",
     "status": "completed"
    },
    "tags": []
   },
   "outputs": [
    {
     "data": {
      "text/plain": [
       "(78, 1)"
      ]
     },
     "execution_count": 30,
     "metadata": {},
     "output_type": "execute_result"
    }
   ],
   "source": [
    "y_train.shape"
   ]
  },
  {
   "cell_type": "code",
   "execution_count": 31,
   "id": "e8b0f837",
   "metadata": {
    "execution": {
     "iopub.execute_input": "2024-07-07T14:02:02.001317Z",
     "iopub.status.busy": "2024-07-07T14:02:02.000811Z",
     "iopub.status.idle": "2024-07-07T14:02:02.006994Z",
     "shell.execute_reply": "2024-07-07T14:02:02.006198Z"
    },
    "papermill": {
     "duration": 0.026057,
     "end_time": "2024-07-07T14:02:02.008969",
     "exception": false,
     "start_time": "2024-07-07T14:02:01.982912",
     "status": "completed"
    },
    "tags": []
   },
   "outputs": [
    {
     "data": {
      "text/plain": [
       "array([[1],\n",
       "       [0],\n",
       "       [0],\n",
       "       [1],\n",
       "       [1],\n",
       "       [0],\n",
       "       [0],\n",
       "       [1],\n",
       "       [0],\n",
       "       [0],\n",
       "       [0],\n",
       "       [0],\n",
       "       [0],\n",
       "       [0],\n",
       "       [0],\n",
       "       [0],\n",
       "       [0],\n",
       "       [1],\n",
       "       [0],\n",
       "       [0],\n",
       "       [0],\n",
       "       [0],\n",
       "       [1],\n",
       "       [0],\n",
       "       [0],\n",
       "       [0],\n",
       "       [0],\n",
       "       [0],\n",
       "       [1],\n",
       "       [0],\n",
       "       [0],\n",
       "       [0],\n",
       "       [0],\n",
       "       [0],\n",
       "       [0],\n",
       "       [0],\n",
       "       [0],\n",
       "       [0],\n",
       "       [0],\n",
       "       [1],\n",
       "       [0],\n",
       "       [0],\n",
       "       [1],\n",
       "       [0],\n",
       "       [1],\n",
       "       [0],\n",
       "       [0],\n",
       "       [1],\n",
       "       [0],\n",
       "       [0],\n",
       "       [0],\n",
       "       [0],\n",
       "       [1],\n",
       "       [0],\n",
       "       [0],\n",
       "       [0],\n",
       "       [1],\n",
       "       [0],\n",
       "       [0],\n",
       "       [0],\n",
       "       [0],\n",
       "       [0],\n",
       "       [0],\n",
       "       [1],\n",
       "       [1],\n",
       "       [0],\n",
       "       [0],\n",
       "       [0],\n",
       "       [0],\n",
       "       [0],\n",
       "       [0],\n",
       "       [0],\n",
       "       [1],\n",
       "       [1],\n",
       "       [0],\n",
       "       [1],\n",
       "       [0],\n",
       "       [0]])"
      ]
     },
     "execution_count": 31,
     "metadata": {},
     "output_type": "execute_result"
    }
   ],
   "source": [
    "y_train"
   ]
  },
  {
   "cell_type": "code",
   "execution_count": 32,
   "id": "23273d06",
   "metadata": {
    "execution": {
     "iopub.execute_input": "2024-07-07T14:02:02.044769Z",
     "iopub.status.busy": "2024-07-07T14:02:02.044425Z",
     "iopub.status.idle": "2024-07-07T14:02:02.054133Z",
     "shell.execute_reply": "2024-07-07T14:02:02.053186Z"
    },
    "papermill": {
     "duration": 0.029834,
     "end_time": "2024-07-07T14:02:02.056009",
     "exception": false,
     "start_time": "2024-07-07T14:02:02.026175",
     "status": "completed"
    },
    "tags": []
   },
   "outputs": [],
   "source": [
    "from sklearn.preprocessing import StandardScaler\n",
    "sc=StandardScaler()\n",
    "X_train=sc.fit_transform(X_train)\n",
    "X_test=sc.transform(X_test)"
   ]
  },
  {
   "cell_type": "code",
   "execution_count": 33,
   "id": "58a7151c",
   "metadata": {
    "execution": {
     "iopub.execute_input": "2024-07-07T14:02:02.093694Z",
     "iopub.status.busy": "2024-07-07T14:02:02.093008Z",
     "iopub.status.idle": "2024-07-07T14:02:02.097329Z",
     "shell.execute_reply": "2024-07-07T14:02:02.096386Z"
    },
    "papermill": {
     "duration": 0.025715,
     "end_time": "2024-07-07T14:02:02.099592",
     "exception": false,
     "start_time": "2024-07-07T14:02:02.073877",
     "status": "completed"
    },
    "tags": []
   },
   "outputs": [],
   "source": [
    "import pickle"
   ]
  },
  {
   "cell_type": "code",
   "execution_count": 34,
   "id": "b4101860",
   "metadata": {
    "execution": {
     "iopub.execute_input": "2024-07-07T14:02:02.136711Z",
     "iopub.status.busy": "2024-07-07T14:02:02.136372Z",
     "iopub.status.idle": "2024-07-07T14:02:02.141554Z",
     "shell.execute_reply": "2024-07-07T14:02:02.140710Z"
    },
    "papermill": {
     "duration": 0.025633,
     "end_time": "2024-07-07T14:02:02.143568",
     "exception": false,
     "start_time": "2024-07-07T14:02:02.117935",
     "status": "completed"
    },
    "tags": []
   },
   "outputs": [],
   "source": [
    "pickle.dump(sc, open(\"scaler.pickle\", \"wb\"))\n",
    "ssc = pickle.load(open(\"scaler.pickle\", 'rb')) "
   ]
  },
  {
   "cell_type": "code",
   "execution_count": 35,
   "id": "4f93e0e1",
   "metadata": {
    "execution": {
     "iopub.execute_input": "2024-07-07T14:02:02.180690Z",
     "iopub.status.busy": "2024-07-07T14:02:02.180368Z",
     "iopub.status.idle": "2024-07-07T14:02:02.186083Z",
     "shell.execute_reply": "2024-07-07T14:02:02.185276Z"
    },
    "papermill": {
     "duration": 0.027115,
     "end_time": "2024-07-07T14:02:02.188063",
     "exception": false,
     "start_time": "2024-07-07T14:02:02.160948",
     "status": "completed"
    },
    "tags": []
   },
   "outputs": [
    {
     "data": {
      "text/plain": [
       "array([-0.42172483, -0.0879538 ,  0.70594973,  0.98274533, -1.10840941])"
      ]
     },
     "execution_count": 35,
     "metadata": {},
     "output_type": "execute_result"
    }
   ],
   "source": [
    "X_test[0]"
   ]
  },
  {
   "cell_type": "code",
   "execution_count": 36,
   "id": "80624ebe",
   "metadata": {
    "execution": {
     "iopub.execute_input": "2024-07-07T14:02:02.225657Z",
     "iopub.status.busy": "2024-07-07T14:02:02.225311Z",
     "iopub.status.idle": "2024-07-07T14:02:02.231157Z",
     "shell.execute_reply": "2024-07-07T14:02:02.230326Z"
    },
    "papermill": {
     "duration": 0.02686,
     "end_time": "2024-07-07T14:02:02.233059",
     "exception": false,
     "start_time": "2024-07-07T14:02:02.206199",
     "status": "completed"
    },
    "tags": []
   },
   "outputs": [
    {
     "data": {
      "text/plain": [
       "array([0])"
      ]
     },
     "execution_count": 36,
     "metadata": {},
     "output_type": "execute_result"
    }
   ],
   "source": [
    "y_test[0]"
   ]
  },
  {
   "cell_type": "code",
   "execution_count": 37,
   "id": "4bfa38d4",
   "metadata": {
    "execution": {
     "iopub.execute_input": "2024-07-07T14:02:02.270299Z",
     "iopub.status.busy": "2024-07-07T14:02:02.269631Z",
     "iopub.status.idle": "2024-07-07T14:02:02.276715Z",
     "shell.execute_reply": "2024-07-07T14:02:02.275874Z"
    },
    "papermill": {
     "duration": 0.027923,
     "end_time": "2024-07-07T14:02:02.278619",
     "exception": false,
     "start_time": "2024-07-07T14:02:02.250696",
     "status": "completed"
    },
    "tags": []
   },
   "outputs": [
    {
     "data": {
      "text/plain": [
       "array([[-0.42172483, -0.0879538 ,  0.70594973,  0.98274533, -1.10840941],\n",
       "       [-0.19408746,  0.59012291, -0.21874925, -0.80255912, -1.10840941],\n",
       "       [-0.21479783,  0.04931538,  0.27837348, -0.1568107 , -1.10840941],\n",
       "       [ 0.08122618, -1.03082958,  0.76731117,  1.28662694, -1.10840941],\n",
       "       [ 0.22496181, -0.9870333 ,  0.5147893 , -0.42270711, -1.10840941],\n",
       "       [ 1.03096986, -1.46732232, -0.2754637 ,  1.32461214,  0.90219371],\n",
       "       [-1.08947525,  0.77988638,  0.95556723, -0.80255912, -1.10840941],\n",
       "       [ 1.54848174,  0.24428541, -2.52429189,  0.90677493, -1.10840941],\n",
       "       [ 1.24722713, -0.37737679, -1.53828428,  0.18505611,  0.90219371],\n",
       "       [ 0.4680436 , -1.02004896,  0.18004732,  0.45095252,  0.90219371],\n",
       "       [-0.51513355,  0.43619276,  0.39370342, -0.99248513,  0.90219371],\n",
       "       [ 2.10699026, -0.37939816, -2.82111862,  0.41296731, -1.10840941],\n",
       "       [-0.55722579, -0.22712185,  1.02838773, -0.0808403 ,  0.90219371],\n",
       "       [-0.20147392,  1.35842609, -0.87006768, -1.18241113,  0.90219371],\n",
       "       [-0.70972622,  0.13641792,  0.9428408 , -0.68860352, -1.10840941],\n",
       "       [-0.48109927,  0.47202608,  0.31190577,  0.29901171,  0.90219371],\n",
       "       [-0.81872073,  0.57658588,  0.72628032, -0.0048699 , -1.10840941],\n",
       "       [ 0.02549195,  0.72665705, -0.66454382, -1.14442593,  0.90219371],\n",
       "       [-0.0618733 , -0.3412372 ,  0.38662732,  0.90677493,  0.90219371],\n",
       "       [-0.20362978,  0.17078116,  0.15707638,  0.33699691, -1.10840941],\n",
       "       [-0.23533149, -0.25731985,  0.57345759,  0.37498211,  0.90219371],\n",
       "       [-1.07060266,  1.62524652,  0.19852968, -1.18241113, -1.10840941],\n",
       "       [-0.38122298,  0.06291367,  0.51537017,  0.52692292, -1.10840941],\n",
       "       [-0.31753682, -0.52156763,  0.9240944 ,  0.71684892,  0.90219371],\n",
       "       [-0.87823654,  0.28097628,  1.06999945, -0.65061832, -1.10840941],\n",
       "       [ 2.93084599, -1.556875  , -3.03693981,  0.90677493,  0.90219371]])"
      ]
     },
     "execution_count": 37,
     "metadata": {},
     "output_type": "execute_result"
    }
   ],
   "source": [
    "X_test"
   ]
  },
  {
   "cell_type": "code",
   "execution_count": 38,
   "id": "5d1cbff2",
   "metadata": {
    "execution": {
     "iopub.execute_input": "2024-07-07T14:02:02.316511Z",
     "iopub.status.busy": "2024-07-07T14:02:02.315714Z",
     "iopub.status.idle": "2024-07-07T14:02:02.323139Z",
     "shell.execute_reply": "2024-07-07T14:02:02.322252Z"
    },
    "papermill": {
     "duration": 0.028349,
     "end_time": "2024-07-07T14:02:02.325119",
     "exception": false,
     "start_time": "2024-07-07T14:02:02.296770",
     "status": "completed"
    },
    "tags": []
   },
   "outputs": [
    {
     "data": {
      "text/plain": [
       "array([[-0.42172483, -0.0879538 ,  0.70594973,  0.98274533, -1.10840941],\n",
       "       [-0.19408746,  0.59012291, -0.21874925, -0.80255912, -1.10840941],\n",
       "       [-0.21479783,  0.04931538,  0.27837348, -0.1568107 , -1.10840941],\n",
       "       [ 0.08122618, -1.03082958,  0.76731117,  1.28662694, -1.10840941],\n",
       "       [ 0.22496181, -0.9870333 ,  0.5147893 , -0.42270711, -1.10840941],\n",
       "       [ 1.03096986, -1.46732232, -0.2754637 ,  1.32461214,  0.90219371],\n",
       "       [-1.08947525,  0.77988638,  0.95556723, -0.80255912, -1.10840941],\n",
       "       [ 1.54848174,  0.24428541, -2.52429189,  0.90677493, -1.10840941],\n",
       "       [ 1.24722713, -0.37737679, -1.53828428,  0.18505611,  0.90219371],\n",
       "       [ 0.4680436 , -1.02004896,  0.18004732,  0.45095252,  0.90219371],\n",
       "       [-0.51513355,  0.43619276,  0.39370342, -0.99248513,  0.90219371],\n",
       "       [ 2.10699026, -0.37939816, -2.82111862,  0.41296731, -1.10840941],\n",
       "       [-0.55722579, -0.22712185,  1.02838773, -0.0808403 ,  0.90219371],\n",
       "       [-0.20147392,  1.35842609, -0.87006768, -1.18241113,  0.90219371],\n",
       "       [-0.70972622,  0.13641792,  0.9428408 , -0.68860352, -1.10840941],\n",
       "       [-0.48109927,  0.47202608,  0.31190577,  0.29901171,  0.90219371],\n",
       "       [-0.81872073,  0.57658588,  0.72628032, -0.0048699 , -1.10840941],\n",
       "       [ 0.02549195,  0.72665705, -0.66454382, -1.14442593,  0.90219371],\n",
       "       [-0.0618733 , -0.3412372 ,  0.38662732,  0.90677493,  0.90219371],\n",
       "       [-0.20362978,  0.17078116,  0.15707638,  0.33699691, -1.10840941],\n",
       "       [-0.23533149, -0.25731985,  0.57345759,  0.37498211,  0.90219371],\n",
       "       [-1.07060266,  1.62524652,  0.19852968, -1.18241113, -1.10840941],\n",
       "       [-0.38122298,  0.06291367,  0.51537017,  0.52692292, -1.10840941],\n",
       "       [-0.31753682, -0.52156763,  0.9240944 ,  0.71684892,  0.90219371],\n",
       "       [-0.87823654,  0.28097628,  1.06999945, -0.65061832, -1.10840941],\n",
       "       [ 2.93084599, -1.556875  , -3.03693981,  0.90677493,  0.90219371]])"
      ]
     },
     "execution_count": 38,
     "metadata": {},
     "output_type": "execute_result"
    }
   ],
   "source": [
    "X_test"
   ]
  },
  {
   "cell_type": "code",
   "execution_count": 39,
   "id": "c46f626c",
   "metadata": {
    "execution": {
     "iopub.execute_input": "2024-07-07T14:02:02.362734Z",
     "iopub.status.busy": "2024-07-07T14:02:02.362345Z",
     "iopub.status.idle": "2024-07-07T14:02:02.368163Z",
     "shell.execute_reply": "2024-07-07T14:02:02.367337Z"
    },
    "papermill": {
     "duration": 0.027046,
     "end_time": "2024-07-07T14:02:02.370180",
     "exception": false,
     "start_time": "2024-07-07T14:02:02.343134",
     "status": "completed"
    },
    "tags": []
   },
   "outputs": [
    {
     "data": {
      "text/plain": [
       "array([[0],\n",
       "       [1],\n",
       "       [0],\n",
       "       [0],\n",
       "       [0],\n",
       "       [0],\n",
       "       [1],\n",
       "       [1],\n",
       "       [0],\n",
       "       [0],\n",
       "       [1],\n",
       "       [0],\n",
       "       [0],\n",
       "       [1],\n",
       "       [0],\n",
       "       [0],\n",
       "       [0],\n",
       "       [1],\n",
       "       [0],\n",
       "       [0],\n",
       "       [0],\n",
       "       [1],\n",
       "       [0],\n",
       "       [0],\n",
       "       [1],\n",
       "       [0]])"
      ]
     },
     "execution_count": 39,
     "metadata": {},
     "output_type": "execute_result"
    }
   ],
   "source": [
    "y_test"
   ]
  },
  {
   "cell_type": "code",
   "execution_count": 40,
   "id": "3026e8ff",
   "metadata": {
    "execution": {
     "iopub.execute_input": "2024-07-07T14:02:02.407921Z",
     "iopub.status.busy": "2024-07-07T14:02:02.407644Z",
     "iopub.status.idle": "2024-07-07T14:02:02.413551Z",
     "shell.execute_reply": "2024-07-07T14:02:02.412868Z"
    },
    "papermill": {
     "duration": 0.027039,
     "end_time": "2024-07-07T14:02:02.415444",
     "exception": false,
     "start_time": "2024-07-07T14:02:02.388405",
     "status": "completed"
    },
    "tags": []
   },
   "outputs": [],
   "source": [
    "from sklearn.naive_bayes import GaussianNB\n",
    "classifier=GaussianNB()"
   ]
  },
  {
   "cell_type": "code",
   "execution_count": 41,
   "id": "5932e729",
   "metadata": {
    "execution": {
     "iopub.execute_input": "2024-07-07T14:02:02.454290Z",
     "iopub.status.busy": "2024-07-07T14:02:02.453421Z",
     "iopub.status.idle": "2024-07-07T14:02:02.465781Z",
     "shell.execute_reply": "2024-07-07T14:02:02.464878Z"
    },
    "papermill": {
     "duration": 0.034323,
     "end_time": "2024-07-07T14:02:02.467981",
     "exception": false,
     "start_time": "2024-07-07T14:02:02.433658",
     "status": "completed"
    },
    "tags": []
   },
   "outputs": [
    {
     "name": "stderr",
     "output_type": "stream",
     "text": [
      "/opt/conda/lib/python3.10/site-packages/sklearn/utils/validation.py:1143: DataConversionWarning: A column-vector y was passed when a 1d array was expected. Please change the shape of y to (n_samples, ), for example using ravel().\n",
      "  y = column_or_1d(y, warn=True)\n"
     ]
    },
    {
     "data": {
      "text/html": [
       "<style>#sk-container-id-1 {color: black;background-color: white;}#sk-container-id-1 pre{padding: 0;}#sk-container-id-1 div.sk-toggleable {background-color: white;}#sk-container-id-1 label.sk-toggleable__label {cursor: pointer;display: block;width: 100%;margin-bottom: 0;padding: 0.3em;box-sizing: border-box;text-align: center;}#sk-container-id-1 label.sk-toggleable__label-arrow:before {content: \"▸\";float: left;margin-right: 0.25em;color: #696969;}#sk-container-id-1 label.sk-toggleable__label-arrow:hover:before {color: black;}#sk-container-id-1 div.sk-estimator:hover label.sk-toggleable__label-arrow:before {color: black;}#sk-container-id-1 div.sk-toggleable__content {max-height: 0;max-width: 0;overflow: hidden;text-align: left;background-color: #f0f8ff;}#sk-container-id-1 div.sk-toggleable__content pre {margin: 0.2em;color: black;border-radius: 0.25em;background-color: #f0f8ff;}#sk-container-id-1 input.sk-toggleable__control:checked~div.sk-toggleable__content {max-height: 200px;max-width: 100%;overflow: auto;}#sk-container-id-1 input.sk-toggleable__control:checked~label.sk-toggleable__label-arrow:before {content: \"▾\";}#sk-container-id-1 div.sk-estimator input.sk-toggleable__control:checked~label.sk-toggleable__label {background-color: #d4ebff;}#sk-container-id-1 div.sk-label input.sk-toggleable__control:checked~label.sk-toggleable__label {background-color: #d4ebff;}#sk-container-id-1 input.sk-hidden--visually {border: 0;clip: rect(1px 1px 1px 1px);clip: rect(1px, 1px, 1px, 1px);height: 1px;margin: -1px;overflow: hidden;padding: 0;position: absolute;width: 1px;}#sk-container-id-1 div.sk-estimator {font-family: monospace;background-color: #f0f8ff;border: 1px dotted black;border-radius: 0.25em;box-sizing: border-box;margin-bottom: 0.5em;}#sk-container-id-1 div.sk-estimator:hover {background-color: #d4ebff;}#sk-container-id-1 div.sk-parallel-item::after {content: \"\";width: 100%;border-bottom: 1px solid gray;flex-grow: 1;}#sk-container-id-1 div.sk-label:hover label.sk-toggleable__label {background-color: #d4ebff;}#sk-container-id-1 div.sk-serial::before {content: \"\";position: absolute;border-left: 1px solid gray;box-sizing: border-box;top: 0;bottom: 0;left: 50%;z-index: 0;}#sk-container-id-1 div.sk-serial {display: flex;flex-direction: column;align-items: center;background-color: white;padding-right: 0.2em;padding-left: 0.2em;position: relative;}#sk-container-id-1 div.sk-item {position: relative;z-index: 1;}#sk-container-id-1 div.sk-parallel {display: flex;align-items: stretch;justify-content: center;background-color: white;position: relative;}#sk-container-id-1 div.sk-item::before, #sk-container-id-1 div.sk-parallel-item::before {content: \"\";position: absolute;border-left: 1px solid gray;box-sizing: border-box;top: 0;bottom: 0;left: 50%;z-index: -1;}#sk-container-id-1 div.sk-parallel-item {display: flex;flex-direction: column;z-index: 1;position: relative;background-color: white;}#sk-container-id-1 div.sk-parallel-item:first-child::after {align-self: flex-end;width: 50%;}#sk-container-id-1 div.sk-parallel-item:last-child::after {align-self: flex-start;width: 50%;}#sk-container-id-1 div.sk-parallel-item:only-child::after {width: 0;}#sk-container-id-1 div.sk-dashed-wrapped {border: 1px dashed gray;margin: 0 0.4em 0.5em 0.4em;box-sizing: border-box;padding-bottom: 0.4em;background-color: white;}#sk-container-id-1 div.sk-label label {font-family: monospace;font-weight: bold;display: inline-block;line-height: 1.2em;}#sk-container-id-1 div.sk-label-container {text-align: center;}#sk-container-id-1 div.sk-container {/* jupyter's `normalize.less` sets `[hidden] { display: none; }` but bootstrap.min.css set `[hidden] { display: none !important; }` so we also need the `!important` here to be able to override the default hidden behavior on the sphinx rendered scikit-learn.org. See: https://github.com/scikit-learn/scikit-learn/issues/21755 */display: inline-block !important;position: relative;}#sk-container-id-1 div.sk-text-repr-fallback {display: none;}</style><div id=\"sk-container-id-1\" class=\"sk-top-container\"><div class=\"sk-text-repr-fallback\"><pre>GaussianNB()</pre><b>In a Jupyter environment, please rerun this cell to show the HTML representation or trust the notebook. <br />On GitHub, the HTML representation is unable to render, please try loading this page with nbviewer.org.</b></div><div class=\"sk-container\" hidden><div class=\"sk-item\"><div class=\"sk-estimator sk-toggleable\"><input class=\"sk-toggleable__control sk-hidden--visually\" id=\"sk-estimator-id-1\" type=\"checkbox\" checked><label for=\"sk-estimator-id-1\" class=\"sk-toggleable__label sk-toggleable__label-arrow\">GaussianNB</label><div class=\"sk-toggleable__content\"><pre>GaussianNB()</pre></div></div></div></div></div>"
      ],
      "text/plain": [
       "GaussianNB()"
      ]
     },
     "execution_count": 41,
     "metadata": {},
     "output_type": "execute_result"
    }
   ],
   "source": [
    "classifier.fit(X_train,y_train)"
   ]
  },
  {
   "cell_type": "code",
   "execution_count": 42,
   "id": "ae75f52b",
   "metadata": {
    "execution": {
     "iopub.execute_input": "2024-07-07T14:02:02.508064Z",
     "iopub.status.busy": "2024-07-07T14:02:02.507724Z",
     "iopub.status.idle": "2024-07-07T14:02:02.512408Z",
     "shell.execute_reply": "2024-07-07T14:02:02.511568Z"
    },
    "papermill": {
     "duration": 0.02711,
     "end_time": "2024-07-07T14:02:02.514322",
     "exception": false,
     "start_time": "2024-07-07T14:02:02.487212",
     "status": "completed"
    },
    "tags": []
   },
   "outputs": [],
   "source": [
    "y_pred=classifier.predict(X_test)"
   ]
  },
  {
   "cell_type": "code",
   "execution_count": 43,
   "id": "3cf137b3",
   "metadata": {
    "execution": {
     "iopub.execute_input": "2024-07-07T14:02:02.553473Z",
     "iopub.status.busy": "2024-07-07T14:02:02.552807Z",
     "iopub.status.idle": "2024-07-07T14:02:02.559323Z",
     "shell.execute_reply": "2024-07-07T14:02:02.558460Z"
    },
    "papermill": {
     "duration": 0.028314,
     "end_time": "2024-07-07T14:02:02.561468",
     "exception": false,
     "start_time": "2024-07-07T14:02:02.533154",
     "status": "completed"
    },
    "tags": []
   },
   "outputs": [
    {
     "data": {
      "text/plain": [
       "array([0])"
      ]
     },
     "execution_count": 43,
     "metadata": {},
     "output_type": "execute_result"
    }
   ],
   "source": [
    "classifier.predict([[43.2555, 30.8421, 25.9025, 6.3, 0]])"
   ]
  },
  {
   "cell_type": "code",
   "execution_count": 44,
   "id": "7669f022",
   "metadata": {
    "execution": {
     "iopub.execute_input": "2024-07-07T14:02:02.600497Z",
     "iopub.status.busy": "2024-07-07T14:02:02.599970Z",
     "iopub.status.idle": "2024-07-07T14:02:02.605243Z",
     "shell.execute_reply": "2024-07-07T14:02:02.604386Z"
    },
    "papermill": {
     "duration": 0.026551,
     "end_time": "2024-07-07T14:02:02.607128",
     "exception": false,
     "start_time": "2024-07-07T14:02:02.580577",
     "status": "completed"
    },
    "tags": []
   },
   "outputs": [],
   "source": [
    "from sklearn.metrics import confusion_matrix,accuracy_score\n",
    "ac=accuracy_score(y_test,y_pred)"
   ]
  },
  {
   "cell_type": "code",
   "execution_count": 45,
   "id": "23a6f680",
   "metadata": {
    "execution": {
     "iopub.execute_input": "2024-07-07T14:02:02.645877Z",
     "iopub.status.busy": "2024-07-07T14:02:02.645378Z",
     "iopub.status.idle": "2024-07-07T14:02:02.651061Z",
     "shell.execute_reply": "2024-07-07T14:02:02.650134Z"
    },
    "papermill": {
     "duration": 0.026944,
     "end_time": "2024-07-07T14:02:02.653131",
     "exception": false,
     "start_time": "2024-07-07T14:02:02.626187",
     "status": "completed"
    },
    "tags": []
   },
   "outputs": [
    {
     "data": {
      "text/plain": [
       "0.9230769230769231"
      ]
     },
     "execution_count": 45,
     "metadata": {},
     "output_type": "execute_result"
    }
   ],
   "source": [
    "ac"
   ]
  },
  {
   "cell_type": "code",
   "execution_count": 46,
   "id": "b8065d5c",
   "metadata": {
    "execution": {
     "iopub.execute_input": "2024-07-07T14:02:02.691380Z",
     "iopub.status.busy": "2024-07-07T14:02:02.691070Z",
     "iopub.status.idle": "2024-07-07T14:02:02.694845Z",
     "shell.execute_reply": "2024-07-07T14:02:02.694005Z"
    },
    "papermill": {
     "duration": 0.025127,
     "end_time": "2024-07-07T14:02:02.696836",
     "exception": false,
     "start_time": "2024-07-07T14:02:02.671709",
     "status": "completed"
    },
    "tags": []
   },
   "outputs": [],
   "source": [
    "import pickle"
   ]
  },
  {
   "cell_type": "code",
   "execution_count": 47,
   "id": "3d386a55",
   "metadata": {
    "execution": {
     "iopub.execute_input": "2024-07-07T14:02:02.735049Z",
     "iopub.status.busy": "2024-07-07T14:02:02.734608Z",
     "iopub.status.idle": "2024-07-07T14:02:02.739224Z",
     "shell.execute_reply": "2024-07-07T14:02:02.738541Z"
    },
    "papermill": {
     "duration": 0.025834,
     "end_time": "2024-07-07T14:02:02.741179",
     "exception": false,
     "start_time": "2024-07-07T14:02:02.715345",
     "status": "completed"
    },
    "tags": []
   },
   "outputs": [],
   "source": [
    "pickle.dump(classifier,open(\"nbclassifier.pkl\",'wb'))\n",
    "model=pickle.load(open('nbclassifier.pkl','rb'))"
   ]
  },
  {
   "cell_type": "code",
   "execution_count": 48,
   "id": "d40921bb",
   "metadata": {
    "execution": {
     "iopub.execute_input": "2024-07-07T14:02:02.779872Z",
     "iopub.status.busy": "2024-07-07T14:02:02.779371Z",
     "iopub.status.idle": "2024-07-07T14:02:02.783338Z",
     "shell.execute_reply": "2024-07-07T14:02:02.782507Z"
    },
    "papermill": {
     "duration": 0.025531,
     "end_time": "2024-07-07T14:02:02.785226",
     "exception": false,
     "start_time": "2024-07-07T14:02:02.759695",
     "status": "completed"
    },
    "tags": []
   },
   "outputs": [],
   "source": [
    "from sklearn.metrics import confusion_matrix"
   ]
  },
  {
   "cell_type": "code",
   "execution_count": 49,
   "id": "e4806160",
   "metadata": {
    "execution": {
     "iopub.execute_input": "2024-07-07T14:02:02.823672Z",
     "iopub.status.busy": "2024-07-07T14:02:02.823113Z",
     "iopub.status.idle": "2024-07-07T14:02:02.828696Z",
     "shell.execute_reply": "2024-07-07T14:02:02.827792Z"
    },
    "papermill": {
     "duration": 0.027108,
     "end_time": "2024-07-07T14:02:02.830853",
     "exception": false,
     "start_time": "2024-07-07T14:02:02.803745",
     "status": "completed"
    },
    "tags": []
   },
   "outputs": [],
   "source": [
    "cm=confusion_matrix(y_test,y_pred)"
   ]
  },
  {
   "cell_type": "code",
   "execution_count": 50,
   "id": "0a0a646f",
   "metadata": {
    "execution": {
     "iopub.execute_input": "2024-07-07T14:02:02.870512Z",
     "iopub.status.busy": "2024-07-07T14:02:02.870161Z",
     "iopub.status.idle": "2024-07-07T14:02:03.422471Z",
     "shell.execute_reply": "2024-07-07T14:02:03.421551Z"
    },
    "papermill": {
     "duration": 0.574265,
     "end_time": "2024-07-07T14:02:03.424435",
     "exception": false,
     "start_time": "2024-07-07T14:02:02.850170",
     "status": "completed"
    },
    "tags": []
   },
   "outputs": [
    {
     "data": {
      "text/plain": [
       "<matplotlib.image.AxesImage at 0x7c5c5402ef80>"
      ]
     },
     "execution_count": 50,
     "metadata": {},
     "output_type": "execute_result"
    },
    {
     "data": {
      "image/png": "[encoded data removed]",
      "text/plain": [
       "<Figure size 640x480 with 2 Axes>"
      ]
     },
     "metadata": {},
     "output_type": "display_data"
    }
   ],
   "source": [
    "import seaborn as sn\n",
    "sn.heatmap(cm,annot=True)\n",
    "plt.imshow(cm)\n"
   ]
  },
  {
   "cell_type": "code",
   "execution_count": 51,
   "id": "17abb7dc",
   "metadata": {
    "execution": {
     "iopub.execute_input": "2024-07-07T14:02:03.464580Z",
     "iopub.status.busy": "2024-07-07T14:02:03.464221Z",
     "iopub.status.idle": "2024-07-07T14:02:03.479915Z",
     "shell.execute_reply": "2024-07-07T14:02:03.479049Z"
    },
    "papermill": {
     "duration": 0.037933,
     "end_time": "2024-07-07T14:02:03.481768",
     "exception": false,
     "start_time": "2024-07-07T14:02:03.443835",
     "status": "completed"
    },
    "tags": []
   },
   "outputs": [
    {
     "data": {
      "text/html": [
       "<div>\n",
       "<style scoped>\n",
       "    .dataframe tbody tr th:only-of-type {\n",
       "        vertical-align: middle;\n",
       "    }\n",
       "\n",
       "    .dataframe tbody tr th {\n",
       "        vertical-align: top;\n",
       "    }\n",
       "\n",
       "    .dataframe thead th {\n",
       "        text-align: right;\n",
       "    }\n",
       "</style>\n",
       "<table border=\"1\" class=\"dataframe\">\n",
       "  <thead>\n",
       "    <tr style=\"text-align: right;\">\n",
       "      <th></th>\n",
       "      <th>%Red Pixel</th>\n",
       "      <th>%Green pixel</th>\n",
       "      <th>%Blue pixel</th>\n",
       "      <th>Hb</th>\n",
       "      <th>Anaemic</th>\n",
       "      <th>Sex_M</th>\n",
       "    </tr>\n",
       "  </thead>\n",
       "  <tbody>\n",
       "    <tr>\n",
       "      <th>0</th>\n",
       "      <td>43.2555</td>\n",
       "      <td>30.8421</td>\n",
       "      <td>25.9025</td>\n",
       "      <td>6.3</td>\n",
       "      <td>1</td>\n",
       "      <td>1</td>\n",
       "    </tr>\n",
       "    <tr>\n",
       "      <th>1</th>\n",
       "      <td>45.6033</td>\n",
       "      <td>28.1900</td>\n",
       "      <td>26.2067</td>\n",
       "      <td>13.5</td>\n",
       "      <td>0</td>\n",
       "      <td>0</td>\n",
       "    </tr>\n",
       "    <tr>\n",
       "      <th>2</th>\n",
       "      <td>45.0107</td>\n",
       "      <td>28.9677</td>\n",
       "      <td>26.0215</td>\n",
       "      <td>11.7</td>\n",
       "      <td>0</td>\n",
       "      <td>0</td>\n",
       "    </tr>\n",
       "    <tr>\n",
       "      <th>3</th>\n",
       "      <td>44.5398</td>\n",
       "      <td>28.9899</td>\n",
       "      <td>26.4703</td>\n",
       "      <td>13.5</td>\n",
       "      <td>0</td>\n",
       "      <td>0</td>\n",
       "    </tr>\n",
       "    <tr>\n",
       "      <th>4</th>\n",
       "      <td>43.2870</td>\n",
       "      <td>30.6972</td>\n",
       "      <td>26.0158</td>\n",
       "      <td>12.4</td>\n",
       "      <td>0</td>\n",
       "      <td>1</td>\n",
       "    </tr>\n",
       "    <tr>\n",
       "      <th>...</th>\n",
       "      <td>...</td>\n",
       "      <td>...</td>\n",
       "      <td>...</td>\n",
       "      <td>...</td>\n",
       "      <td>...</td>\n",
       "      <td>...</td>\n",
       "    </tr>\n",
       "    <tr>\n",
       "      <th>99</th>\n",
       "      <td>49.9999</td>\n",
       "      <td>29.2860</td>\n",
       "      <td>20.7141</td>\n",
       "      <td>14.5</td>\n",
       "      <td>1</td>\n",
       "      <td>0</td>\n",
       "    </tr>\n",
       "    <tr>\n",
       "      <th>100</th>\n",
       "      <td>42.2324</td>\n",
       "      <td>30.6757</td>\n",
       "      <td>27.0919</td>\n",
       "      <td>6.3</td>\n",
       "      <td>1</td>\n",
       "      <td>1</td>\n",
       "    </tr>\n",
       "    <tr>\n",
       "      <th>101</th>\n",
       "      <td>45.6064</td>\n",
       "      <td>31.9084</td>\n",
       "      <td>22.4852</td>\n",
       "      <td>12.7</td>\n",
       "      <td>0</td>\n",
       "      <td>0</td>\n",
       "    </tr>\n",
       "    <tr>\n",
       "      <th>102</th>\n",
       "      <td>45.2095</td>\n",
       "      <td>29.2769</td>\n",
       "      <td>25.5136</td>\n",
       "      <td>13.4</td>\n",
       "      <td>0</td>\n",
       "      <td>1</td>\n",
       "    </tr>\n",
       "    <tr>\n",
       "      <th>103</th>\n",
       "      <td>43.5706</td>\n",
       "      <td>29.8094</td>\n",
       "      <td>26.6199</td>\n",
       "      <td>12.2</td>\n",
       "      <td>0</td>\n",
       "      <td>0</td>\n",
       "    </tr>\n",
       "  </tbody>\n",
       "</table>\n",
       "<p>104 rows × 6 columns</p>\n",
       "</div>"
      ],
      "text/plain": [
       "     %Red Pixel  %Green pixel  %Blue pixel    Hb  Anaemic  Sex_M\n",
       "0       43.2555       30.8421      25.9025   6.3        1      1\n",
       "1       45.6033       28.1900      26.2067  13.5        0      0\n",
       "2       45.0107       28.9677      26.0215  11.7        0      0\n",
       "3       44.5398       28.9899      26.4703  13.5        0      0\n",
       "4       43.2870       30.6972      26.0158  12.4        0      1\n",
       "..          ...           ...          ...   ...      ...    ...\n",
       "99      49.9999       29.2860      20.7141  14.5        1      0\n",
       "100     42.2324       30.6757      27.0919   6.3        1      1\n",
       "101     45.6064       31.9084      22.4852  12.7        0      0\n",
       "102     45.2095       29.2769      25.5136  13.4        0      1\n",
       "103     43.5706       29.8094      26.6199  12.2        0      0\n",
       "\n",
       "[104 rows x 6 columns]"
      ]
     },
     "execution_count": 51,
     "metadata": {},
     "output_type": "execute_result"
    }
   ],
   "source": [
    "df"
   ]
  },
  {
   "cell_type": "code",
   "execution_count": 52,
   "id": "3bd99780",
   "metadata": {
    "execution": {
     "iopub.execute_input": "2024-07-07T14:02:03.522487Z",
     "iopub.status.busy": "2024-07-07T14:02:03.522145Z",
     "iopub.status.idle": "2024-07-07T14:02:03.528054Z",
     "shell.execute_reply": "2024-07-07T14:02:03.527259Z"
    },
    "papermill": {
     "duration": 0.028765,
     "end_time": "2024-07-07T14:02:03.530024",
     "exception": false,
     "start_time": "2024-07-07T14:02:03.501259",
     "status": "completed"
    },
    "tags": []
   },
   "outputs": [
    {
     "data": {
      "text/plain": [
       "array([1])"
      ]
     },
     "execution_count": 52,
     "metadata": {},
     "output_type": "execute_result"
    }
   ],
   "source": [
    "y_train[0]"
   ]
  },
  {
   "cell_type": "code",
   "execution_count": 53,
   "id": "943d4144",
   "metadata": {
    "execution": {
     "iopub.execute_input": "2024-07-07T14:02:03.571214Z",
     "iopub.status.busy": "2024-07-07T14:02:03.570910Z",
     "iopub.status.idle": "2024-07-07T14:02:03.575202Z",
     "shell.execute_reply": "2024-07-07T14:02:03.574469Z"
    },
    "papermill": {
     "duration": 0.026656,
     "end_time": "2024-07-07T14:02:03.577094",
     "exception": false,
     "start_time": "2024-07-07T14:02:03.550438",
     "status": "completed"
    },
    "tags": []
   },
   "outputs": [],
   "source": [
    "model=pickle.load(open('nbclassifier.pkl','rb'))"
   ]
  },
  {
   "cell_type": "code",
   "execution_count": 54,
   "id": "9a0db2ec",
   "metadata": {
    "execution": {
     "iopub.execute_input": "2024-07-07T14:02:03.617135Z",
     "iopub.status.busy": "2024-07-07T14:02:03.616834Z",
     "iopub.status.idle": "2024-07-07T14:02:03.624064Z",
     "shell.execute_reply": "2024-07-07T14:02:03.623024Z"
    },
    "papermill": {
     "duration": 0.02895,
     "end_time": "2024-07-07T14:02:03.625351",
     "exception": true,
     "start_time": "2024-07-07T14:02:03.596401",
     "status": "failed"
    },
    "tags": []
   },
   "outputs": [
    {
     "ename": "SyntaxError",
     "evalue": "incomplete input (1571808925.py, line 18)",
     "output_type": "error",
     "traceback": [
      "\u001b[0;36m  Cell \u001b[0;32mIn[54], line 18\u001b[0;36m\u001b[0m\n\u001b[0;31m    print(\"Prediction:\", output\u001b[0m\n\u001b[0m                               ^\u001b[0m\n\u001b[0;31mSyntaxError\u001b[0m\u001b[0;31m:\u001b[0m incomplete input\n"
     ]
    }
   ],
   "source": [
    "model = pickle.load(open('nbclassifier.pkl', 'rb'))\n",
    "scaler = pickle.load(open('scaler.pickle', 'rb'))\n",
    "\n",
    "# Example input data for a single person as strings (these should be numeric)\n",
    "input_data = [\"43.2555\", \"30.8421\", \"25.9025\", \"6.3\", \"1\"]\n",
    "\n",
    "# Convert the input data to floats\n",
    "input_data_numeric = np.array([input_data], dtype=float)\n",
    "\n",
    "# Scale the input data\n",
    "input_data_scaled = scaler.transform(input_data_numeric)\n",
    "\n",
    "# Make a prediction\n",
    "prediction = model.predict(input_data_scaled)\n",
    "\n",
    "# Output the prediction\n",
    "output = 'True' if prediction[0] == 1 else 'False'\n",
    "print(\"Prediction:\", output)"
   ]
  },
  {
   "cell_type": "code",
   "execution_count": null,
   "id": "1eab104d",
   "metadata": {
    "papermill": {
     "duration": null,
     "end_time": null,
     "exception": null,
     "start_time": null,
     "status": "pending"
    },
    "tags": []
   },
   "outputs": [],
   "source": []
  }
 ],
 "metadata": {
  "kaggle": {
   "accelerator": "gpu",
   "dataSources": [
    {
     "datasetId": 5334004,
     "sourceId": 8859848,
     "sourceType": "datasetVersion"
    }
   ],
   "dockerImageVersionId": 30733,
   "isGpuEnabled": true,
   "isInternetEnabled": true,
   "language": "python",
   "sourceType": "notebook"
  },
  "kernelspec": {
   "display_name": "Python 3",
   "language": "python",
   "name": "python3"
  },
  "language_info": {
   "codemirror_mode": {
    "name": "ipython",
    "version": 3
   },
   "file_extension": ".py",
   "mimetype": "text/x-python",
   "name": "python",
   "nbconvert_exporter": "python",
   "pygments_lexer": "ipython3",
   "version": "3.10.13"
  },
  "papermill": {
   "default_parameters": {},
   "duration": 9.824092,
   "end_time": "2024-07-07T14:02:04.063558",
   "environment_variables": {},
   "exception": true,
   "input_path": "__notebook__.ipynb",
   "output_path": "__notebook__.ipynb",
   "parameters": {},
   "start_time": "2024-07-07T14:01:54.239466",
   "version": "2.5.0"
  }
 },
 "nbformat": 4,
 "nbformat_minor": 5
}
